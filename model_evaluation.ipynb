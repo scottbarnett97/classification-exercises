{
 "cells": [
  {
   "cell_type": "markdown",
   "id": "d9919bf1-1402-44a0-97e1-a7d1dfa87c50",
   "metadata": {},
   "source": [
    "# Exercises"
   ]
  },
  {
   "cell_type": "code",
   "execution_count": 65,
   "id": "4c917019-fb66-41bf-910d-6bb486f7972b",
   "metadata": {},
   "outputs": [],
   "source": [
    "import pandas as pd\n",
    "import matplotlib.pyplot as plt\n",
    "import scipy.stats as stats\n",
    "import seaborn as sns\n",
    "import numpy as np\n",
    "import env\n",
    "import os\n",
    "import sklearn"
   ]
  },
  {
   "cell_type": "markdown",
   "id": "77e7c417-ec28-4581-a9f4-e92223fbeb0a",
   "metadata": {},
   "source": [
    "## 1. Create a new file named model_evaluation.py or model_evaluation.ipynb for these exercises."
   ]
  },
  {
   "cell_type": "markdown",
   "id": "4367d597-6ec1-4178-a0e9-8b6183ef569f",
   "metadata": {},
   "source": [
    "## 2. Given the following confusion matrix, evaluate (by hand) the model's performance.\n",
    "#\n",
    "#\n",
    "#|               | pred dog   | pred cat   |\n",
    "#|:------------  |-----------:|-----------:|\n",
    "#| actual dog    |         46 |         7  |\n",
    "#| actual cat    |         13 |         34 |"
   ]
  },
  {
   "cell_type": "code",
   "execution_count": null,
   "id": "9708f1be-e9fe-44ce-8cb9-bdfcc837f943",
   "metadata": {},
   "outputs": [
    {
     "name": "stdout",
     "output_type": "stream",
     "text": [
      "0.8\n",
      "0.7796610169491526\n",
      "0.8679245283018868\n"
     ]
    }
   ],
   "source": [
    "TP = 46\n",
    "TN = 34\n",
    "FP = 7\n",
    "FN = 13\n",
    "Accuracy = (TP + TN) / (TP + TN + FP + FN)\n",
    "Recall = TP / (TP + FN)\n",
    "\n",
    "Precision = TP / (TP + FP)\n",
    "\n",
    "print(Accuracy)\n",
    "print(Recall)\n",
    "print(Precision)"
   ]
  },
  {
   "cell_type": "markdown",
   "id": "de2f3034-c831-4f66-8391-53478691802c",
   "metadata": {},
   "source": [
    "###    a. In the context of this problem, what is a false positive?  predicted a cat, it was a dog\n",
    "###    b. In the context of this problem, what is a false negative?  predicted a dog, it was a cat\n",
    "###    c. How would you describe this model?  a reliable predictor of dog vs. cat"
   ]
  },
  {
   "cell_type": "code",
   "execution_count": null,
   "id": "b4e45523-2f8a-4523-8543-76449310b8dd",
   "metadata": {},
   "outputs": [],
   "source": [
    "\n"
   ]
  },
  {
   "cell_type": "markdown",
   "id": "dab2ada3-5857-4547-b149-d59675ab5f12",
   "metadata": {},
   "source": [
    "## 3. You are working as a datascientist working for Codeup Cody Creator (C3 for short), a rubber-duck manufacturing plant.\n",
    "\n",
    "Unfortunately, some of the rubber ducks that are produced will have defects. Your team has built several models that try to predict those defects, and the data from their predictions can be found here.\n",
    "\n",
    "Use the predictions dataset and pandas to help answer the following questions:"
   ]
  },
  {
   "cell_type": "code",
   "execution_count": null,
   "id": "6167db21-63db-46ad-9b65-7c7f4bed8b49",
   "metadata": {},
   "outputs": [],
   "source": []
  },
  {
   "cell_type": "code",
   "execution_count": null,
   "id": "7efa64b5-8330-4e71-b326-0303e5cf3bd5",
   "metadata": {},
   "outputs": [],
   "source": []
  },
  {
   "cell_type": "code",
   "execution_count": 90,
   "id": "c201c193-8e10-4390-b595-8e4e5a993da2",
   "metadata": {},
   "outputs": [
    {
     "data": {
      "text/html": [
       "<div>\n",
       "<style scoped>\n",
       "    .dataframe tbody tr th:only-of-type {\n",
       "        vertical-align: middle;\n",
       "    }\n",
       "\n",
       "    .dataframe tbody tr th {\n",
       "        vertical-align: top;\n",
       "    }\n",
       "\n",
       "    .dataframe thead th {\n",
       "        text-align: right;\n",
       "    }\n",
       "</style>\n",
       "<table border=\"1\" class=\"dataframe\">\n",
       "  <thead>\n",
       "    <tr style=\"text-align: right;\">\n",
       "      <th></th>\n",
       "      <th>actual</th>\n",
       "      <th>model1</th>\n",
       "      <th>model2</th>\n",
       "      <th>model3</th>\n",
       "    </tr>\n",
       "  </thead>\n",
       "  <tbody>\n",
       "    <tr>\n",
       "      <th>0</th>\n",
       "      <td>No Defect</td>\n",
       "      <td>No Defect</td>\n",
       "      <td>Defect</td>\n",
       "      <td>No Defect</td>\n",
       "    </tr>\n",
       "    <tr>\n",
       "      <th>1</th>\n",
       "      <td>No Defect</td>\n",
       "      <td>No Defect</td>\n",
       "      <td>Defect</td>\n",
       "      <td>Defect</td>\n",
       "    </tr>\n",
       "    <tr>\n",
       "      <th>2</th>\n",
       "      <td>No Defect</td>\n",
       "      <td>No Defect</td>\n",
       "      <td>Defect</td>\n",
       "      <td>No Defect</td>\n",
       "    </tr>\n",
       "    <tr>\n",
       "      <th>3</th>\n",
       "      <td>No Defect</td>\n",
       "      <td>Defect</td>\n",
       "      <td>Defect</td>\n",
       "      <td>Defect</td>\n",
       "    </tr>\n",
       "    <tr>\n",
       "      <th>4</th>\n",
       "      <td>No Defect</td>\n",
       "      <td>No Defect</td>\n",
       "      <td>Defect</td>\n",
       "      <td>No Defect</td>\n",
       "    </tr>\n",
       "  </tbody>\n",
       "</table>\n",
       "</div>"
      ],
      "text/plain": [
       "      actual     model1  model2     model3\n",
       "0  No Defect  No Defect  Defect  No Defect\n",
       "1  No Defect  No Defect  Defect     Defect\n",
       "2  No Defect  No Defect  Defect  No Defect\n",
       "3  No Defect     Defect  Defect     Defect\n",
       "4  No Defect  No Defect  Defect  No Defect"
      ]
     },
     "execution_count": 90,
     "metadata": {},
     "output_type": "execute_result"
    }
   ],
   "source": [
    "# import csv\n",
    "url = \"/Users/ScottBarnett/codeup-data-science/classification-exercises/c3.csv\"\n",
    "\n",
    "df = pd.read_csv(url)\n",
    "df.head()"
   ]
  },
  {
   "cell_type": "code",
   "execution_count": 91,
   "id": "f6030888-f270-42a3-9bb5-27cd60bf790c",
   "metadata": {},
   "outputs": [
    {
     "data": {
      "text/plain": [
       "No Defect    184\n",
       "Defect        16\n",
       "Name: actual, dtype: int64"
      ]
     },
     "execution_count": 91,
     "metadata": {},
     "output_type": "execute_result"
    }
   ],
   "source": [
    "df.actual.value_counts()"
   ]
  },
  {
   "cell_type": "markdown",
   "id": "31b45fd2-6ce2-40df-8db0-b67f7456b965",
   "metadata": {},
   "source": [
    "### a. An internal team wants to investigate the cause of the manufacturing defects. \n",
    "    They tell you that they want to identify as many of the ducks that have a defect as possible.\n",
    "    Which evaluation metric would be appropriate here? Which model would be the best fit for this use case?"
   ]
  },
  {
   "cell_type": "code",
   "execution_count": null,
   "id": "0ad5220a-707c-4691-b1a1-3239fc084487",
   "metadata": {},
   "outputs": [],
   "source": [
    "#    Which evaluation metric would be appropriate here?  Recall\n"
   ]
  },
  {
   "cell_type": "code",
   "execution_count": null,
   "id": "070f921f-4706-4335-8852-d6659c0f5355",
   "metadata": {},
   "outputs": [],
   "source": [
    "#    Which model would be the best fit for this use case? model 3"
   ]
  },
  {
   "cell_type": "code",
   "execution_count": null,
   "id": "c7f6a118-0998-4510-996a-33326466afc0",
   "metadata": {},
   "outputs": [],
   "source": []
  },
  {
   "cell_type": "markdown",
   "id": "d8d5e261-f12c-42f6-85b1-93d74297ec5b",
   "metadata": {},
   "source": [
    "### b. Recently several stories in the local news have come out highlighting customers who received a rubber duck with a defect,\n",
    "  and portraying C3 in a bad light. The PR team has decided to launch a program that gives customers with a defective duck \n",
    "    a vacation to Hawaii. They need you to predict which ducks will have defects, but tell you the really don't want to \n",
    "    accidentally give out a vacation package when the duck really doesn't have a defect. Which evaluation metric would be\n",
    "    appropriate here? Which model would be the best fit for this use case?"
   ]
  },
  {
   "cell_type": "code",
   "execution_count": null,
   "id": "19252c17-2ad2-4dc2-9d48-4a46ee7809c7",
   "metadata": {},
   "outputs": [],
   "source": [
    "# Which evaluation metric would be appropriate here? Precision"
   ]
  },
  {
   "cell_type": "code",
   "execution_count": null,
   "id": "be1a30f9-9bf2-47eb-b983-f484ed046859",
   "metadata": {},
   "outputs": [],
   "source": [
    "# Which model would be the best fit for this use case? Precision, it is best when the cost of a FP is too high\n",
    "model 1"
   ]
  },
  {
   "cell_type": "markdown",
   "id": "de8a0178-d33a-45a2-a568-cd9f4752ea58",
   "metadata": {},
   "source": [
    "## 4.You are working as a data scientist for Gives You Paws ™, a subscription based service that shows you cute pictures of dogs or cats (or both for an additional fee).\n",
    "\n",
    "At Gives You Paws, anyone can upload pictures of their cats or dogs. The photos are then put through a two step process. First an automated algorithm tags pictures as either a cat or a dog (Phase I). Next, the photos that have been initially identified are put through another round of review, possibly with some human oversight, before being presented to the users (Phase II).\n",
    "\n",
    "Several models have already been developed with the data, and you can find their results here."
   ]
  },
  {
   "cell_type": "code",
   "execution_count": 33,
   "id": "06ef65dc-b810-4e1d-8acb-a75eb1527e23",
   "metadata": {},
   "outputs": [
    {
     "data": {
      "text/plain": [
       "dog    3254\n",
       "cat    1746\n",
       "Name: actual, dtype: int64"
      ]
     },
     "execution_count": 33,
     "metadata": {},
     "output_type": "execute_result"
    }
   ],
   "source": [
    "# import csv\n",
    "url = \"/Users/ScottBarnett/codeup-data-science/classification-exercises/gives_you_paws.csv\"\n",
    "\n",
    "df = pd.read_csv(url)\n",
    "df.actual.value_counts()"
   ]
  },
  {
   "cell_type": "markdown",
   "id": "10f8510f-e204-4759-876f-957a29db36fe",
   "metadata": {},
   "source": [
    "Given this dataset, use pandas to create a baseline model (i.e. a model that just predicts the most common class) and answer the following questions:"
   ]
  },
  {
   "cell_type": "code",
   "execution_count": 35,
   "id": "5e1bf093-2657-4a2f-b925-d21b1b49f6b4",
   "metadata": {},
   "outputs": [
    {
     "data": {
      "text/html": [
       "<div>\n",
       "<style scoped>\n",
       "    .dataframe tbody tr th:only-of-type {\n",
       "        vertical-align: middle;\n",
       "    }\n",
       "\n",
       "    .dataframe tbody tr th {\n",
       "        vertical-align: top;\n",
       "    }\n",
       "\n",
       "    .dataframe thead th {\n",
       "        text-align: right;\n",
       "    }\n",
       "</style>\n",
       "<table border=\"1\" class=\"dataframe\">\n",
       "  <thead>\n",
       "    <tr style=\"text-align: right;\">\n",
       "      <th></th>\n",
       "      <th>actual</th>\n",
       "      <th>model1</th>\n",
       "      <th>model2</th>\n",
       "      <th>model3</th>\n",
       "      <th>model4</th>\n",
       "      <th>baseline_prediction</th>\n",
       "    </tr>\n",
       "  </thead>\n",
       "  <tbody>\n",
       "    <tr>\n",
       "      <th>0</th>\n",
       "      <td>cat</td>\n",
       "      <td>cat</td>\n",
       "      <td>dog</td>\n",
       "      <td>cat</td>\n",
       "      <td>dog</td>\n",
       "      <td>dog</td>\n",
       "    </tr>\n",
       "    <tr>\n",
       "      <th>1</th>\n",
       "      <td>dog</td>\n",
       "      <td>dog</td>\n",
       "      <td>cat</td>\n",
       "      <td>cat</td>\n",
       "      <td>dog</td>\n",
       "      <td>dog</td>\n",
       "    </tr>\n",
       "    <tr>\n",
       "      <th>2</th>\n",
       "      <td>dog</td>\n",
       "      <td>cat</td>\n",
       "      <td>cat</td>\n",
       "      <td>cat</td>\n",
       "      <td>dog</td>\n",
       "      <td>dog</td>\n",
       "    </tr>\n",
       "    <tr>\n",
       "      <th>3</th>\n",
       "      <td>dog</td>\n",
       "      <td>dog</td>\n",
       "      <td>dog</td>\n",
       "      <td>cat</td>\n",
       "      <td>dog</td>\n",
       "      <td>dog</td>\n",
       "    </tr>\n",
       "    <tr>\n",
       "      <th>4</th>\n",
       "      <td>cat</td>\n",
       "      <td>cat</td>\n",
       "      <td>cat</td>\n",
       "      <td>dog</td>\n",
       "      <td>dog</td>\n",
       "      <td>dog</td>\n",
       "    </tr>\n",
       "    <tr>\n",
       "      <th>...</th>\n",
       "      <td>...</td>\n",
       "      <td>...</td>\n",
       "      <td>...</td>\n",
       "      <td>...</td>\n",
       "      <td>...</td>\n",
       "      <td>...</td>\n",
       "    </tr>\n",
       "    <tr>\n",
       "      <th>4995</th>\n",
       "      <td>dog</td>\n",
       "      <td>dog</td>\n",
       "      <td>dog</td>\n",
       "      <td>dog</td>\n",
       "      <td>dog</td>\n",
       "      <td>dog</td>\n",
       "    </tr>\n",
       "    <tr>\n",
       "      <th>4996</th>\n",
       "      <td>dog</td>\n",
       "      <td>dog</td>\n",
       "      <td>cat</td>\n",
       "      <td>cat</td>\n",
       "      <td>dog</td>\n",
       "      <td>dog</td>\n",
       "    </tr>\n",
       "    <tr>\n",
       "      <th>4997</th>\n",
       "      <td>dog</td>\n",
       "      <td>cat</td>\n",
       "      <td>cat</td>\n",
       "      <td>dog</td>\n",
       "      <td>dog</td>\n",
       "      <td>dog</td>\n",
       "    </tr>\n",
       "    <tr>\n",
       "      <th>4998</th>\n",
       "      <td>cat</td>\n",
       "      <td>cat</td>\n",
       "      <td>cat</td>\n",
       "      <td>cat</td>\n",
       "      <td>dog</td>\n",
       "      <td>dog</td>\n",
       "    </tr>\n",
       "    <tr>\n",
       "      <th>4999</th>\n",
       "      <td>dog</td>\n",
       "      <td>dog</td>\n",
       "      <td>dog</td>\n",
       "      <td>dog</td>\n",
       "      <td>dog</td>\n",
       "      <td>dog</td>\n",
       "    </tr>\n",
       "  </tbody>\n",
       "</table>\n",
       "<p>5000 rows × 6 columns</p>\n",
       "</div>"
      ],
      "text/plain": [
       "     actual model1 model2 model3 model4 baseline_prediction\n",
       "0       cat    cat    dog    cat    dog                 dog\n",
       "1       dog    dog    cat    cat    dog                 dog\n",
       "2       dog    cat    cat    cat    dog                 dog\n",
       "3       dog    dog    dog    cat    dog                 dog\n",
       "4       cat    cat    cat    dog    dog                 dog\n",
       "...     ...    ...    ...    ...    ...                 ...\n",
       "4995    dog    dog    dog    dog    dog                 dog\n",
       "4996    dog    dog    cat    cat    dog                 dog\n",
       "4997    dog    cat    cat    dog    dog                 dog\n",
       "4998    cat    cat    cat    cat    dog                 dog\n",
       "4999    dog    dog    dog    dog    dog                 dog\n",
       "\n",
       "[5000 rows x 6 columns]"
      ]
     },
     "execution_count": 35,
     "metadata": {},
     "output_type": "execute_result"
    }
   ],
   "source": [
    "#  Given this dataset, use pandas to create a baseline model (i.e. a model that just predicts the most common class)\n",
    "#  and answer the following questions:\n",
    "\n",
    "df['baseline_prediction'] = 'dog'\n",
    "df\n"
   ]
  },
  {
   "cell_type": "markdown",
   "id": "a5cefc99-cd54-4d85-a187-bd300effbad7",
   "metadata": {},
   "source": [
    "###  a. In terms of accuracy, how do the various models compare to the baseline model? 2 are better 2 are worse\n",
    " Are any of the models better than the baseline? model 1 and model 4\n"
   ]
  },
  {
   "cell_type": "code",
   "execution_count": 55,
   "id": "d1a416bf-c6a7-42fb-849f-06156e1f0ba9",
   "metadata": {},
   "outputs": [
    {
     "name": "stdout",
     "output_type": "stream",
     "text": [
      "--Model 1 Baseline Tests--\n",
      "Accuracy\n",
      "   model accuracy: 80.74%\n",
      "baseline accuracy: 65.08%\n",
      "-------------------------\n",
      "Recall\n",
      "   model recall: 80.33%\n",
      "baseline recall: 100.00%\n",
      "-------------------------\n",
      "Precision\n",
      "model precision: 89.00%\n",
      "baseline precision: 65.08%\n",
      "-------------------------\n"
     ]
    }
   ],
   "source": [
    "print('--Model 1 Baseline Tests--')\n",
    "# Accuracy\n",
    "model_accuracy = (df.model1 == df.actual).mean()\n",
    "baseline_accuracy = (df.baseline_prediction == df.actual).mean()\n",
    "print('Accuracy')\n",
    "print(f'   model accuracy: {model_accuracy:.2%}')\n",
    "print(f'baseline accuracy: {baseline_accuracy:.2%}')\n",
    "print(\"-------------------------\")\n",
    "subset = df[df.actual == 'dog']\n",
    "# recall\n",
    "model_recall = (subset.model1 == subset.actual).mean()\n",
    "baseline_recall = (subset.baseline_prediction == subset.actual).mean()\n",
    "print('Recall')\n",
    "print(f'   model recall: {model_recall:.2%}')\n",
    "print(f'baseline recall: {baseline_recall:.2%}')\n",
    "print(\"-------------------------\")\n",
    "subset = df[df.model1 == 'dog']\n",
    "model_precision = (subset.model1 == subset.actual).mean()\n",
    "# Precision\n",
    "subset = df[df.baseline_prediction == 'dog']\n",
    "baseline_precision = (subset.baseline_prediction == subset.actual).mean()\n",
    "print('Precision')\n",
    "print(f'model precision: {model_precision:.2%}')\n",
    "print(f'baseline precision: {baseline_precision:.2%}')\n",
    "print(\"-------------------------\")"
   ]
  },
  {
   "cell_type": "code",
   "execution_count": 54,
   "id": "a68c9d5a-5ef5-4859-bcfa-b07788045ab6",
   "metadata": {},
   "outputs": [
    {
     "name": "stdout",
     "output_type": "stream",
     "text": [
      "--Model 2 Baseline Tests--\n",
      "Accuracy\n",
      "   model accuracy: 63.04%\n",
      "baseline accuracy: 65.08%\n",
      "-------------------------\n",
      "Recall\n",
      "   model recall: 49.08%\n",
      "baseline recall: 100.00%\n",
      "-------------------------\n",
      "Precision\n",
      "model precision: 89.32%\n",
      "baseline precision: 65.08%\n",
      "-------------------------\n"
     ]
    }
   ],
   "source": [
    "print('--Model 2 Baseline Tests--')\n",
    "# Accuracy\n",
    "model_accuracy = (df.model2 == df.actual).mean()\n",
    "baseline_accuracy = (df.baseline_prediction == df.actual).mean()\n",
    "print('Accuracy')\n",
    "print(f'   model accuracy: {model_accuracy:.2%}')\n",
    "print(f'baseline accuracy: {baseline_accuracy:.2%}')\n",
    "print(\"-------------------------\")\n",
    "subset = df[df.actual == 'dog']\n",
    "# recall\n",
    "model_recall = (subset.model2 == subset.actual).mean()\n",
    "baseline_recall = (subset.baseline_prediction == subset.actual).mean()\n",
    "print('Recall')\n",
    "print(f'   model recall: {model_recall:.2%}')\n",
    "print(f'baseline recall: {baseline_recall:.2%}')\n",
    "print(\"-------------------------\")\n",
    "subset = df[df.model2 == 'dog']\n",
    "model_precision = (subset.model2 == subset.actual).mean()\n",
    "# Precision\n",
    "subset = df[df.baseline_prediction == 'dog']\n",
    "baseline_precision = (subset.baseline_prediction == subset.actual).mean()\n",
    "print('Precision')\n",
    "print(f'model precision: {model_precision:.2%}')\n",
    "print(f'baseline precision: {baseline_precision:.2%}')\n",
    "print(\"-------------------------\")"
   ]
  },
  {
   "cell_type": "code",
   "execution_count": 56,
   "id": "340eb29a-32b3-4401-ad79-d856c6614cc5",
   "metadata": {},
   "outputs": [
    {
     "name": "stdout",
     "output_type": "stream",
     "text": [
      "--Model 3 Baseline Tests--\n",
      "Accuracy\n",
      "   model accuracy: 50.96%\n",
      "baseline accuracy: 65.08%\n",
      "-------------------------\n",
      "Recall\n",
      "   model recall: 50.86%\n",
      "baseline recall: 100.00%\n",
      "-------------------------\n",
      "Precision\n",
      "model precision: 80.30%\n",
      "baseline precision: 65.08%\n",
      "-------------------------\n"
     ]
    }
   ],
   "source": [
    "print('--Model 3 Baseline Tests--')\n",
    "# Accuracy\n",
    "model_accuracy = (df.model3 == df.actual).mean()\n",
    "baseline_accuracy = (df.baseline_prediction == df.actual).mean()\n",
    "print('Accuracy')\n",
    "print(f'   model accuracy: {model_accuracy:.2%}')\n",
    "print(f'baseline accuracy: {baseline_accuracy:.2%}')\n",
    "print(\"-------------------------\")\n",
    "subset = df[df.actual == 'dog']\n",
    "# recall\n",
    "model_recall = (subset.model3 == subset.actual).mean()\n",
    "baseline_recall = (subset.baseline_prediction == subset.actual).mean()\n",
    "print('Recall')\n",
    "print(f'   model recall: {model_recall:.2%}')\n",
    "print(f'baseline recall: {baseline_recall:.2%}')\n",
    "print(\"-------------------------\")\n",
    "subset = df[df.model3 == 'dog']\n",
    "model_precision = (subset.model1 == subset.actual).mean()\n",
    "# Precision\n",
    "subset = df[df.baseline_prediction == 'dog']\n",
    "baseline_precision = (subset.baseline_prediction == subset.actual).mean()\n",
    "print('Precision')\n",
    "print(f'model precision: {model_precision:.2%}')\n",
    "print(f'baseline precision: {baseline_precision:.2%}')\n",
    "print(\"-------------------------\")\n"
   ]
  },
  {
   "cell_type": "code",
   "execution_count": 58,
   "id": "466b74ae-e22b-4bee-965e-7683e02615ec",
   "metadata": {},
   "outputs": [
    {
     "name": "stdout",
     "output_type": "stream",
     "text": [
      "--Model 4 Baseline Tests--\n",
      "Accuracy\n",
      "   model accuracy: 74.26%\n",
      "baseline accuracy: 65.08%\n",
      "-------------------------\n",
      "Recall\n",
      "   model recall: 95.57%\n",
      "baseline recall: 100.00%\n",
      "-------------------------\n",
      "Precision\n",
      "model precision: 73.12%\n",
      "baseline precision: 65.08%\n",
      "-------------------------\n"
     ]
    }
   ],
   "source": [
    "print('--Model 4 Baseline Tests--')\n",
    "# Accuracy\n",
    "model_accuracy = (df.model4 == df.actual).mean()\n",
    "baseline_accuracy = (df.baseline_prediction == df.actual).mean()\n",
    "print('Accuracy')\n",
    "print(f'   model accuracy: {model_accuracy:.2%}')\n",
    "print(f'baseline accuracy: {baseline_accuracy:.2%}')\n",
    "print(\"-------------------------\")\n",
    "subset = df[df.actual == 'dog']\n",
    "# recall\n",
    "model_recall = (subset.model4 == subset.actual).mean()\n",
    "baseline_recall = (subset.baseline_prediction == subset.actual).mean()\n",
    "print('Recall')\n",
    "print(f'   model recall: {model_recall:.2%}')\n",
    "print(f'baseline recall: {baseline_recall:.2%}')\n",
    "print(\"-------------------------\")\n",
    "subset = df[df.model4 == 'dog']\n",
    "model_precision = (subset.model4 == subset.actual).mean()\n",
    "# Precision\n",
    "subset = df[df.baseline_prediction == 'dog']\n",
    "baseline_precision = (subset.baseline_prediction == subset.actual).mean()\n",
    "print('Precision')\n",
    "print(f'model precision: {model_precision:.2%}')\n",
    "print(f'baseline precision: {baseline_precision:.2%}')\n",
    "print(\"-------------------------\")"
   ]
  },
  {
   "cell_type": "code",
   "execution_count": null,
   "id": "bab38325-aa4c-4c42-8fae-61eff335f8ba",
   "metadata": {},
   "outputs": [],
   "source": [
    "#Suppose you are working on a team that solely deals with dog pictures. Which of these models would you recommend? \n",
    "#Model 4 for recall \n"
   ]
  },
  {
   "cell_type": "code",
   "execution_count": null,
   "id": "9e7434c6-cf2a-4b78-bad6-a567286426cb",
   "metadata": {},
   "outputs": [],
   "source": [
    "#Suppose you are working on a team that solely deals with cat pictures. Which of these models would you recommend?\n",
    "# Model 2 for precision has the highest success rate for minimizing false positives.\n",
    "# in this case just select the cat photos for customers\n",
    "# in this case a false positive would be predicting a dog and being a cat"
   ]
  },
  {
   "cell_type": "code",
   "execution_count": null,
   "id": "bf3ee0a2-291b-4b45-9ba0-737e551b7d89",
   "metadata": {},
   "outputs": [],
   "source": []
  },
  {
   "cell_type": "code",
   "execution_count": null,
   "id": "475222fc-b2a1-4f13-86b6-883cb6015f29",
   "metadata": {},
   "outputs": [],
   "source": []
  },
  {
   "cell_type": "markdown",
   "id": "9d067c14-5e03-42d9-8919-d14d8332eb68",
   "metadata": {},
   "source": [
    "## 5 Follow the links below to read the documentation about each function, \n",
    "then apply those functions to the data from the previous problem.\n",
    "\n",
    "sklearn.metrics.accuracy_score\n",
    "sklearn.metrics.precision_score\n",
    "sklearn.metrics.recall_score\n",
    "sklearn.metrics.classification_report\n",
    " import sklearn functions"
   ]
  },
  {
   "cell_type": "code",
   "execution_count": 82,
   "id": "44354499-c99c-44bd-bdc1-b9db1a254509",
   "metadata": {},
   "outputs": [],
   "source": [
    "from sklearn.metrics import precision_score\n",
    "from sklearn.metrics import accuracy_score\n",
    "from sklearn.metrics import recall_score\n",
    "from sklearn.metrics import classification_report"
   ]
  },
  {
   "cell_type": "code",
   "execution_count": 84,
   "id": "d54f06b3-de75-43c7-8c01-bef63930a67e",
   "metadata": {},
   "outputs": [
    {
     "name": "stdout",
     "output_type": "stream",
     "text": [
      "0.8074\n",
      "[0.89002383 0.68977218]\n",
      "[0.80331899]\n",
      "              precision    recall  f1-score   support\n",
      "\n",
      "         dog       0.89      0.80      0.84      3254\n",
      "         cat       0.69      0.82      0.75      1746\n",
      "\n",
      "    accuracy                           0.81      5000\n",
      "   macro avg       0.79      0.81      0.80      5000\n",
      "weighted avg       0.82      0.81      0.81      5000\n",
      "\n"
     ]
    }
   ],
   "source": [
    "# sklearn.metrics.accuracy_score (y_true, y_pred, *, normalize=True, sample_weight=None)\n",
    "y_true= df.actual\n",
    "y_pred= df.model1\n",
    "accuracy = accuracy_score(y_true, y_pred)\n",
    "precision = precision_score(y_true, y_pred,\n",
    "                labels = ['dog', 'cat'],\n",
    "               average = None)\n",
    "recall = recall_score(y_true, y_pred,\n",
    "                labels=[\"dog\"],\n",
    "                average = None)\n",
    "print(accuracy)\n",
    "print(precision)\n",
    "print(recall)\n",
    "print(classification_report(y_true, y_pred, labels = ['dog', 'cat']))"
   ]
  },
  {
   "cell_type": "code",
   "execution_count": 85,
   "id": "00315a2e-7395-4540-9141-c52278d4567b",
   "metadata": {},
   "outputs": [
    {
     "name": "stdout",
     "output_type": "stream",
     "text": [
      "0.6304\n",
      "[0.89317673 0.48412204]\n",
      "[0.49078058]\n",
      "              precision    recall  f1-score   support\n",
      "\n",
      "         dog       0.89      0.49      0.63      3254\n",
      "         cat       0.48      0.89      0.63      1746\n",
      "\n",
      "    accuracy                           0.63      5000\n",
      "   macro avg       0.69      0.69      0.63      5000\n",
      "weighted avg       0.75      0.63      0.63      5000\n",
      "\n"
     ]
    }
   ],
   "source": [
    "y_true= df.actual\n",
    "y_pred= df.model2\n",
    "accuracy = accuracy_score(y_true, y_pred)\n",
    "precision = precision_score(y_true, y_pred,\n",
    "                labels = ['dog', 'cat'],\n",
    "               average = None)\n",
    "recall = recall_score(y_true, y_pred,\n",
    "                labels=[\"dog\"],\n",
    "                average = None)\n",
    "print(accuracy)\n",
    "print(precision)\n",
    "print(recall)\n",
    "print(classification_report(y_true, y_pred, labels = ['dog', 'cat']))"
   ]
  },
  {
   "cell_type": "code",
   "execution_count": 86,
   "id": "c6080738-446a-41a2-bb5d-9e2fb36e2bac",
   "metadata": {},
   "outputs": [
    {
     "name": "stdout",
     "output_type": "stream",
     "text": [
      "0.5096\n",
      "[0.65988836 0.35834671]\n",
      "[0.50860479]\n",
      "              precision    recall  f1-score   support\n",
      "\n",
      "         dog       0.66      0.51      0.57      3254\n",
      "         cat       0.36      0.51      0.42      1746\n",
      "\n",
      "    accuracy                           0.51      5000\n",
      "   macro avg       0.51      0.51      0.50      5000\n",
      "weighted avg       0.55      0.51      0.52      5000\n",
      "\n"
     ]
    }
   ],
   "source": [
    "y_true= df.actual\n",
    "y_pred= df.model3\n",
    "accuracy = accuracy_score(y_true, y_pred)\n",
    "precision = precision_score(y_true, y_pred,\n",
    "                labels = ['dog', 'cat'],\n",
    "               average = None)\n",
    "recall = recall_score(y_true, y_pred,\n",
    "                labels=[\"dog\"],\n",
    "                average = None)\n",
    "print(accuracy)\n",
    "print(precision)\n",
    "print(recall)\n",
    "print(classification_report(y_true, y_pred, labels = ['dog', 'cat']))"
   ]
  },
  {
   "cell_type": "code",
   "execution_count": 87,
   "id": "57b50432-ade0-4405-9138-57972f07a567",
   "metadata": {},
   "outputs": [
    {
     "name": "stdout",
     "output_type": "stream",
     "text": [
      "0.7426\n",
      "[0.73124853 0.80722892]\n",
      "[0.95574677]\n",
      "              precision    recall  f1-score   support\n",
      "\n",
      "         dog       0.73      0.96      0.83      3254\n",
      "         cat       0.81      0.35      0.48      1746\n",
      "\n",
      "    accuracy                           0.74      5000\n",
      "   macro avg       0.77      0.65      0.66      5000\n",
      "weighted avg       0.76      0.74      0.71      5000\n",
      "\n"
     ]
    }
   ],
   "source": [
    "y_true= df.actual\n",
    "y_pred= df.model4\n",
    "accuracy = accuracy_score(y_true, y_pred)\n",
    "precision = precision_score(y_true, y_pred,\n",
    "                labels = ['dog', 'cat'],\n",
    "               average = None)\n",
    "recall = recall_score(y_true, y_pred,\n",
    "                labels=[\"dog\"],\n",
    "                average = None)\n",
    "print(accuracy)\n",
    "print(precision)\n",
    "print(recall)\n",
    "print(classification_report(y_true, y_pred, labels = ['dog', 'cat']))"
   ]
  },
  {
   "cell_type": "code",
   "execution_count": null,
   "id": "3ddc056e-57d2-41df-9137-a8ba5f47dbeb",
   "metadata": {},
   "outputs": [],
   "source": []
  }
 ],
 "metadata": {
  "kernelspec": {
   "display_name": "Python 3 (ipykernel)",
   "language": "python",
   "name": "python3"
  },
  "language_info": {
   "codemirror_mode": {
    "name": "ipython",
    "version": 3
   },
   "file_extension": ".py",
   "mimetype": "text/x-python",
   "name": "python",
   "nbconvert_exporter": "python",
   "pygments_lexer": "ipython3",
   "version": "3.9.13"
  }
 },
 "nbformat": 4,
 "nbformat_minor": 5
}
