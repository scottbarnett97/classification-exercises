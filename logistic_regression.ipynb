{
 "cells": [
  {
   "cell_type": "markdown",
   "id": "9449c669-ea8d-45d4-a578-008b4b34a703",
   "metadata": {},
   "source": [
    "# Exercises - logistic_regression"
   ]
  },
  {
   "cell_type": "code",
   "execution_count": 1,
   "id": "a991d57c-dc6d-4083-bc72-8522caa93326",
   "metadata": {},
   "outputs": [],
   "source": [
    "from sklearn.linear_model import LogisticRegression\n",
    "#Quiet my warnings for the sake of the lesson:\n",
    "import warnings\n",
    "warnings.filterwarnings(\"ignore\")\n",
    "\n",
    "# Tabular data friends:\n",
    "import pandas as pd\n",
    "import numpy as np\n",
    "\n",
    "# Data viz:\n",
    "import matplotlib.pyplot as plt\n",
    "import seaborn as sns\n",
    "\n",
    "# Sklearn stuff:\n",
    "from sklearn.model_selection import train_test_split\n",
    "from sklearn.neighbors import KNeighborsClassifier\n",
    "from sklearn.metrics import classification_report, confusion_matrix, plot_confusion_matrix\n",
    "\n",
    "# Data acquisition\n",
    "from pydataset import data\n",
    "import pandas as pd\n",
    "import matplotlib.pyplot as plt\n",
    "import scipy.stats as stats\n",
    "import seaborn as sns\n",
    "import numpy as np\n",
    "import env\n",
    "import os\n",
    "import sklearn\n",
    "from sklearn.metrics import accuracy_score\n",
    "import acquire\n",
    "import prepare"
   ]
  },
  {
   "cell_type": "code",
   "execution_count": 2,
   "id": "b2b6c2ef-869f-4d9f-bec3-23321f3dc326",
   "metadata": {},
   "outputs": [
    {
     "name": "stdout",
     "output_type": "stream",
     "text": [
      "train -> (534, 9), 59.93%\n",
      "validate -> (178, 9),19.98%\n",
      "test -> (179, 9), 20.09%\n"
     ]
    }
   ],
   "source": [
    "df=acquire.get_titanic_data()\n",
    "df=prepare.prep_titanic(df)\n",
    "df= df.drop(columns=['Unnamed: 0','passenger_id','embark_town','sex'])\n",
    "train, validate, test = prepare.split_data(df,'survived')"
   ]
  },
  {
   "cell_type": "code",
   "execution_count": 3,
   "id": "c2b09e5f-4e6f-4485-acca-7ce7e460accb",
   "metadata": {},
   "outputs": [],
   "source": [
    "X_train = train.iloc[:,1:]\n",
    "y_train = train.survived\n",
    "\n",
    "X_validate = validate.iloc[:,1:]\n",
    "y_validate = validate.survived\n",
    "\n",
    "X_test = test.iloc[:,1:]\n",
    "y_test = test.survived"
   ]
  },
  {
   "cell_type": "markdown",
   "id": "ef334814-6dab-4875-9fbd-86b0054d6a6f",
   "metadata": {},
   "source": [
    "### Doing everything with all the Features to set baseline for caomparison"
   ]
  },
  {
   "cell_type": "code",
   "execution_count": 4,
   "id": "a9f0599c-831c-4a8b-a551-5972a3a01af9",
   "metadata": {},
   "outputs": [
    {
     "name": "stdout",
     "output_type": "stream",
     "text": [
      "Baseline accuracy: 0.6161048689138576\n"
     ]
    }
   ],
   "source": [
    "#baseline_prediction = y_train.mode()\n",
    "# Predict the majority class in the training set\n",
    "baseline_pred = [0] * len(y_train)\n",
    "print('Baseline accuracy:', accuracy_score(y_train, baseline_pred))"
   ]
  },
  {
   "cell_type": "code",
   "execution_count": 85,
   "id": "71da8b0c-4aa2-4404-a0a0-c33178361886",
   "metadata": {},
   "outputs": [],
   "source": [
    "# from sklearn.linear_model import LogisticRegression\n",
    "logit = LogisticRegression()\n"
   ]
  },
  {
   "cell_type": "code",
   "execution_count": 86,
   "id": "83055cdb-8f1a-44a4-a7f1-c51a47bb8b55",
   "metadata": {},
   "outputs": [
    {
     "data": {
      "text/html": [
       "<style>#sk-container-id-6 {color: black;background-color: white;}#sk-container-id-6 pre{padding: 0;}#sk-container-id-6 div.sk-toggleable {background-color: white;}#sk-container-id-6 label.sk-toggleable__label {cursor: pointer;display: block;width: 100%;margin-bottom: 0;padding: 0.3em;box-sizing: border-box;text-align: center;}#sk-container-id-6 label.sk-toggleable__label-arrow:before {content: \"▸\";float: left;margin-right: 0.25em;color: #696969;}#sk-container-id-6 label.sk-toggleable__label-arrow:hover:before {color: black;}#sk-container-id-6 div.sk-estimator:hover label.sk-toggleable__label-arrow:before {color: black;}#sk-container-id-6 div.sk-toggleable__content {max-height: 0;max-width: 0;overflow: hidden;text-align: left;background-color: #f0f8ff;}#sk-container-id-6 div.sk-toggleable__content pre {margin: 0.2em;color: black;border-radius: 0.25em;background-color: #f0f8ff;}#sk-container-id-6 input.sk-toggleable__control:checked~div.sk-toggleable__content {max-height: 200px;max-width: 100%;overflow: auto;}#sk-container-id-6 input.sk-toggleable__control:checked~label.sk-toggleable__label-arrow:before {content: \"▾\";}#sk-container-id-6 div.sk-estimator input.sk-toggleable__control:checked~label.sk-toggleable__label {background-color: #d4ebff;}#sk-container-id-6 div.sk-label input.sk-toggleable__control:checked~label.sk-toggleable__label {background-color: #d4ebff;}#sk-container-id-6 input.sk-hidden--visually {border: 0;clip: rect(1px 1px 1px 1px);clip: rect(1px, 1px, 1px, 1px);height: 1px;margin: -1px;overflow: hidden;padding: 0;position: absolute;width: 1px;}#sk-container-id-6 div.sk-estimator {font-family: monospace;background-color: #f0f8ff;border: 1px dotted black;border-radius: 0.25em;box-sizing: border-box;margin-bottom: 0.5em;}#sk-container-id-6 div.sk-estimator:hover {background-color: #d4ebff;}#sk-container-id-6 div.sk-parallel-item::after {content: \"\";width: 100%;border-bottom: 1px solid gray;flex-grow: 1;}#sk-container-id-6 div.sk-label:hover label.sk-toggleable__label {background-color: #d4ebff;}#sk-container-id-6 div.sk-serial::before {content: \"\";position: absolute;border-left: 1px solid gray;box-sizing: border-box;top: 0;bottom: 0;left: 50%;z-index: 0;}#sk-container-id-6 div.sk-serial {display: flex;flex-direction: column;align-items: center;background-color: white;padding-right: 0.2em;padding-left: 0.2em;position: relative;}#sk-container-id-6 div.sk-item {position: relative;z-index: 1;}#sk-container-id-6 div.sk-parallel {display: flex;align-items: stretch;justify-content: center;background-color: white;position: relative;}#sk-container-id-6 div.sk-item::before, #sk-container-id-6 div.sk-parallel-item::before {content: \"\";position: absolute;border-left: 1px solid gray;box-sizing: border-box;top: 0;bottom: 0;left: 50%;z-index: -1;}#sk-container-id-6 div.sk-parallel-item {display: flex;flex-direction: column;z-index: 1;position: relative;background-color: white;}#sk-container-id-6 div.sk-parallel-item:first-child::after {align-self: flex-end;width: 50%;}#sk-container-id-6 div.sk-parallel-item:last-child::after {align-self: flex-start;width: 50%;}#sk-container-id-6 div.sk-parallel-item:only-child::after {width: 0;}#sk-container-id-6 div.sk-dashed-wrapped {border: 1px dashed gray;margin: 0 0.4em 0.5em 0.4em;box-sizing: border-box;padding-bottom: 0.4em;background-color: white;}#sk-container-id-6 div.sk-label label {font-family: monospace;font-weight: bold;display: inline-block;line-height: 1.2em;}#sk-container-id-6 div.sk-label-container {text-align: center;}#sk-container-id-6 div.sk-container {/* jupyter's `normalize.less` sets `[hidden] { display: none; }` but bootstrap.min.css set `[hidden] { display: none !important; }` so we also need the `!important` here to be able to override the default hidden behavior on the sphinx rendered scikit-learn.org. See: https://github.com/scikit-learn/scikit-learn/issues/21755 */display: inline-block !important;position: relative;}#sk-container-id-6 div.sk-text-repr-fallback {display: none;}</style><div id=\"sk-container-id-6\" class=\"sk-top-container\"><div class=\"sk-text-repr-fallback\"><pre>LogisticRegression()</pre><b>In a Jupyter environment, please rerun this cell to show the HTML representation or trust the notebook. <br />On GitHub, the HTML representation is unable to render, please try loading this page with nbviewer.org.</b></div><div class=\"sk-container\" hidden><div class=\"sk-item\"><div class=\"sk-estimator sk-toggleable\"><input class=\"sk-toggleable__control sk-hidden--visually\" id=\"sk-estimator-id-6\" type=\"checkbox\" checked><label for=\"sk-estimator-id-6\" class=\"sk-toggleable__label sk-toggleable__label-arrow\">LogisticRegression</label><div class=\"sk-toggleable__content\"><pre>LogisticRegression()</pre></div></div></div></div></div>"
      ],
      "text/plain": [
       "LogisticRegression()"
      ]
     },
     "execution_count": 86,
     "metadata": {},
     "output_type": "execute_result"
    }
   ],
   "source": [
    "logit.fit(X_train, y_train)\n"
   ]
  },
  {
   "cell_type": "code",
   "execution_count": 87,
   "id": "0b24fe20-74a7-40b4-b280-4255b2792cb1",
   "metadata": {},
   "outputs": [
    {
     "name": "stdout",
     "output_type": "stream",
     "text": [
      "Index(['pclass', 'age', 'fare', 'sex_male'], dtype='object')\n",
      "Coefficient: \n",
      " [[-1.15088807e+00 -2.77083109e-02 -1.04544077e-03 -2.59770674e+00]]\n",
      "Intercept: \n",
      " [4.56711949]\n"
     ]
    }
   ],
   "source": [
    "print(X_train.columns)\n",
    "print('Coefficient: \\n', logit.coef_)\n",
    "print('Intercept: \\n', logit.intercept_)\n"
   ]
  },
  {
   "cell_type": "code",
   "execution_count": 88,
   "id": "f17559a9-b2b6-4d9d-8212-cde7a893a856",
   "metadata": {},
   "outputs": [],
   "source": [
    "y_pred = logit.predict(X_train)\n"
   ]
  },
  {
   "cell_type": "code",
   "execution_count": 89,
   "id": "98bdb917-d748-4ae4-b403-e77a966cd4bb",
   "metadata": {},
   "outputs": [],
   "source": [
    "y_pred_proba = logit.predict_proba(X_train)\n"
   ]
  },
  {
   "cell_type": "code",
   "execution_count": 90,
   "id": "fdf45ba2-3628-47a5-9e83-532b3f181613",
   "metadata": {},
   "outputs": [
    {
     "name": "stdout",
     "output_type": "stream",
     "text": [
      "Accuracy of Logistic Regression classifier on training set: 0.80\n"
     ]
    }
   ],
   "source": [
    "print('Accuracy of Logistic Regression classifier on training set: {:.2f}'\n",
    "     .format(logit.score(X_train, y_train)))\n"
   ]
  },
  {
   "cell_type": "code",
   "execution_count": 91,
   "id": "323c53c7-d949-4aeb-81c2-eeb78a44f57f",
   "metadata": {},
   "outputs": [
    {
     "name": "stdout",
     "output_type": "stream",
     "text": [
      "[[277  52]\n",
      " [ 55 150]]\n"
     ]
    }
   ],
   "source": [
    "print(confusion_matrix(y_train, y_pred))\n"
   ]
  },
  {
   "cell_type": "code",
   "execution_count": 92,
   "id": "709e99a7-1e55-4b61-90ec-ba4a8787dc1b",
   "metadata": {},
   "outputs": [
    {
     "name": "stdout",
     "output_type": "stream",
     "text": [
      "              precision    recall  f1-score   support\n",
      "\n",
      "           0       0.83      0.84      0.84       329\n",
      "           1       0.74      0.73      0.74       205\n",
      "\n",
      "    accuracy                           0.80       534\n",
      "   macro avg       0.79      0.79      0.79       534\n",
      "weighted avg       0.80      0.80      0.80       534\n",
      "\n"
     ]
    }
   ],
   "source": [
    "print(classification_report(y_train, y_pred))\n"
   ]
  },
  {
   "cell_type": "code",
   "execution_count": 93,
   "id": "4306851d-b8cf-4f25-a3ee-46098d7a74f0",
   "metadata": {},
   "outputs": [
    {
     "data": {
      "text/html": [
       "<div>\n",
       "<style scoped>\n",
       "    .dataframe tbody tr th:only-of-type {\n",
       "        vertical-align: middle;\n",
       "    }\n",
       "\n",
       "    .dataframe tbody tr th {\n",
       "        vertical-align: top;\n",
       "    }\n",
       "\n",
       "    .dataframe thead th {\n",
       "        text-align: right;\n",
       "    }\n",
       "</style>\n",
       "<table border=\"1\" class=\"dataframe\">\n",
       "  <thead>\n",
       "    <tr style=\"text-align: right;\">\n",
       "      <th></th>\n",
       "      <th>pclass</th>\n",
       "      <th>age</th>\n",
       "      <th>fare</th>\n",
       "      <th>sex_male</th>\n",
       "    </tr>\n",
       "  </thead>\n",
       "  <tbody>\n",
       "    <tr>\n",
       "      <th>455</th>\n",
       "      <td>3</td>\n",
       "      <td>29.0</td>\n",
       "      <td>7.8958</td>\n",
       "      <td>1</td>\n",
       "    </tr>\n",
       "    <tr>\n",
       "      <th>380</th>\n",
       "      <td>1</td>\n",
       "      <td>42.0</td>\n",
       "      <td>227.5250</td>\n",
       "      <td>0</td>\n",
       "    </tr>\n",
       "    <tr>\n",
       "      <th>492</th>\n",
       "      <td>1</td>\n",
       "      <td>55.0</td>\n",
       "      <td>30.5000</td>\n",
       "      <td>1</td>\n",
       "    </tr>\n",
       "    <tr>\n",
       "      <th>55</th>\n",
       "      <td>1</td>\n",
       "      <td>28.0</td>\n",
       "      <td>35.5000</td>\n",
       "      <td>1</td>\n",
       "    </tr>\n",
       "    <tr>\n",
       "      <th>243</th>\n",
       "      <td>3</td>\n",
       "      <td>22.0</td>\n",
       "      <td>7.1250</td>\n",
       "      <td>1</td>\n",
       "    </tr>\n",
       "  </tbody>\n",
       "</table>\n",
       "</div>"
      ],
      "text/plain": [
       "     pclass   age      fare  sex_male\n",
       "455       3  29.0    7.8958         1\n",
       "380       1  42.0  227.5250         0\n",
       "492       1  55.0   30.5000         1\n",
       "55        1  28.0   35.5000         1\n",
       "243       3  22.0    7.1250         1"
      ]
     },
     "execution_count": 93,
     "metadata": {},
     "output_type": "execute_result"
    }
   ],
   "source": [
    "X_train.head()\n"
   ]
  },
  {
   "cell_type": "markdown",
   "id": "7d6eda2a-f17b-4fb9-8c72-bf1baeaa8b74",
   "metadata": {},
   "source": [
    "## 1. Create a model that includes only age, fare, and pclass. Does this model perform better than your baseline? no"
   ]
  },
  {
   "cell_type": "code",
   "execution_count": 94,
   "id": "69cb56ed-b570-47c9-9ee4-65629d865800",
   "metadata": {},
   "outputs": [
    {
     "name": "stdout",
     "output_type": "stream",
     "text": [
      "train -> (534, 4), 59.93%\n",
      "validate -> (178, 4),19.98%\n",
      "test -> (179, 4), 20.09%\n"
     ]
    }
   ],
   "source": [
    "# get df to only include requiered columns and replace age=nan for median age\n",
    "\n",
    "df=acquire.get_titanic_data()\n",
    "df=prepare.prep_titanic2(df)\n",
    "df=df.drop(columns= ['Unnamed: 0','passenger_id','sex','sibsp','parch','embark_town','alone','sex_male','embark_town_Queenstown','embark_town_Southampton'])\n",
    "df['age']=df['age'].fillna(df['age'].median())\n",
    "df.sort_values('age')\n",
    "train, validate, test = prepare.split_data(df,'survived')"
   ]
  },
  {
   "cell_type": "code",
   "execution_count": 95,
   "id": "1a926c78-ffb3-4e6a-8088-dc494501bbdd",
   "metadata": {},
   "outputs": [],
   "source": [
    "X_train = train.drop(columns='survived')\n",
    "y_train = train.survived\n",
    "\n",
    "X_validate = validate.drop(columns='survived')\n",
    "y_validate = validate.survived\n",
    "\n",
    "X_test = test.drop(columns='survived')\n",
    "y_test = test.survived"
   ]
  },
  {
   "cell_type": "code",
   "execution_count": 96,
   "id": "d122ee08-b573-4898-ac0b-024d54336c1d",
   "metadata": {},
   "outputs": [
    {
     "name": "stdout",
     "output_type": "stream",
     "text": [
      "Baseline accuracy: 0.6161048689138576\n"
     ]
    }
   ],
   "source": [
    "#baseline_prediction = y_train.mode()\n",
    "# Predict the majority class in the training set\n",
    "baseline_pred = [0] * len(y_train)\n",
    "print('Baseline accuracy:', accuracy_score(y_train, baseline_pred))\n"
   ]
  },
  {
   "cell_type": "code",
   "execution_count": 97,
   "id": "b2ddb6e4-4559-4b89-839e-b6de911072aa",
   "metadata": {},
   "outputs": [],
   "source": [
    "# from sklearn.linear_model import LogisticRegression\n",
    "logit = LogisticRegression()\n"
   ]
  },
  {
   "cell_type": "code",
   "execution_count": 98,
   "id": "e50b2240-5671-4829-a365-9f6b554875b3",
   "metadata": {},
   "outputs": [
    {
     "data": {
      "text/html": [
       "<style>#sk-container-id-7 {color: black;background-color: white;}#sk-container-id-7 pre{padding: 0;}#sk-container-id-7 div.sk-toggleable {background-color: white;}#sk-container-id-7 label.sk-toggleable__label {cursor: pointer;display: block;width: 100%;margin-bottom: 0;padding: 0.3em;box-sizing: border-box;text-align: center;}#sk-container-id-7 label.sk-toggleable__label-arrow:before {content: \"▸\";float: left;margin-right: 0.25em;color: #696969;}#sk-container-id-7 label.sk-toggleable__label-arrow:hover:before {color: black;}#sk-container-id-7 div.sk-estimator:hover label.sk-toggleable__label-arrow:before {color: black;}#sk-container-id-7 div.sk-toggleable__content {max-height: 0;max-width: 0;overflow: hidden;text-align: left;background-color: #f0f8ff;}#sk-container-id-7 div.sk-toggleable__content pre {margin: 0.2em;color: black;border-radius: 0.25em;background-color: #f0f8ff;}#sk-container-id-7 input.sk-toggleable__control:checked~div.sk-toggleable__content {max-height: 200px;max-width: 100%;overflow: auto;}#sk-container-id-7 input.sk-toggleable__control:checked~label.sk-toggleable__label-arrow:before {content: \"▾\";}#sk-container-id-7 div.sk-estimator input.sk-toggleable__control:checked~label.sk-toggleable__label {background-color: #d4ebff;}#sk-container-id-7 div.sk-label input.sk-toggleable__control:checked~label.sk-toggleable__label {background-color: #d4ebff;}#sk-container-id-7 input.sk-hidden--visually {border: 0;clip: rect(1px 1px 1px 1px);clip: rect(1px, 1px, 1px, 1px);height: 1px;margin: -1px;overflow: hidden;padding: 0;position: absolute;width: 1px;}#sk-container-id-7 div.sk-estimator {font-family: monospace;background-color: #f0f8ff;border: 1px dotted black;border-radius: 0.25em;box-sizing: border-box;margin-bottom: 0.5em;}#sk-container-id-7 div.sk-estimator:hover {background-color: #d4ebff;}#sk-container-id-7 div.sk-parallel-item::after {content: \"\";width: 100%;border-bottom: 1px solid gray;flex-grow: 1;}#sk-container-id-7 div.sk-label:hover label.sk-toggleable__label {background-color: #d4ebff;}#sk-container-id-7 div.sk-serial::before {content: \"\";position: absolute;border-left: 1px solid gray;box-sizing: border-box;top: 0;bottom: 0;left: 50%;z-index: 0;}#sk-container-id-7 div.sk-serial {display: flex;flex-direction: column;align-items: center;background-color: white;padding-right: 0.2em;padding-left: 0.2em;position: relative;}#sk-container-id-7 div.sk-item {position: relative;z-index: 1;}#sk-container-id-7 div.sk-parallel {display: flex;align-items: stretch;justify-content: center;background-color: white;position: relative;}#sk-container-id-7 div.sk-item::before, #sk-container-id-7 div.sk-parallel-item::before {content: \"\";position: absolute;border-left: 1px solid gray;box-sizing: border-box;top: 0;bottom: 0;left: 50%;z-index: -1;}#sk-container-id-7 div.sk-parallel-item {display: flex;flex-direction: column;z-index: 1;position: relative;background-color: white;}#sk-container-id-7 div.sk-parallel-item:first-child::after {align-self: flex-end;width: 50%;}#sk-container-id-7 div.sk-parallel-item:last-child::after {align-self: flex-start;width: 50%;}#sk-container-id-7 div.sk-parallel-item:only-child::after {width: 0;}#sk-container-id-7 div.sk-dashed-wrapped {border: 1px dashed gray;margin: 0 0.4em 0.5em 0.4em;box-sizing: border-box;padding-bottom: 0.4em;background-color: white;}#sk-container-id-7 div.sk-label label {font-family: monospace;font-weight: bold;display: inline-block;line-height: 1.2em;}#sk-container-id-7 div.sk-label-container {text-align: center;}#sk-container-id-7 div.sk-container {/* jupyter's `normalize.less` sets `[hidden] { display: none; }` but bootstrap.min.css set `[hidden] { display: none !important; }` so we also need the `!important` here to be able to override the default hidden behavior on the sphinx rendered scikit-learn.org. See: https://github.com/scikit-learn/scikit-learn/issues/21755 */display: inline-block !important;position: relative;}#sk-container-id-7 div.sk-text-repr-fallback {display: none;}</style><div id=\"sk-container-id-7\" class=\"sk-top-container\"><div class=\"sk-text-repr-fallback\"><pre>LogisticRegression()</pre><b>In a Jupyter environment, please rerun this cell to show the HTML representation or trust the notebook. <br />On GitHub, the HTML representation is unable to render, please try loading this page with nbviewer.org.</b></div><div class=\"sk-container\" hidden><div class=\"sk-item\"><div class=\"sk-estimator sk-toggleable\"><input class=\"sk-toggleable__control sk-hidden--visually\" id=\"sk-estimator-id-7\" type=\"checkbox\" checked><label for=\"sk-estimator-id-7\" class=\"sk-toggleable__label sk-toggleable__label-arrow\">LogisticRegression</label><div class=\"sk-toggleable__content\"><pre>LogisticRegression()</pre></div></div></div></div></div>"
      ],
      "text/plain": [
       "LogisticRegression()"
      ]
     },
     "execution_count": 98,
     "metadata": {},
     "output_type": "execute_result"
    }
   ],
   "source": [
    "logit.fit(X_train, y_train)"
   ]
  },
  {
   "cell_type": "code",
   "execution_count": 99,
   "id": "3b160155-2560-4a29-8194-1fab78c410c7",
   "metadata": {},
   "outputs": [
    {
     "name": "stdout",
     "output_type": "stream",
     "text": [
      "Index(['pclass', 'age', 'fare'], dtype='object')\n",
      "Coefficient: \n",
      " [[-0.92828895 -0.02939958  0.00226961]]\n",
      "Intercept: \n",
      " [2.42269948]\n"
     ]
    }
   ],
   "source": [
    "print(X_train.columns)\n",
    "print('Coefficient: \\n', logit.coef_)\n",
    "print('Intercept: \\n', logit.intercept_)\n"
   ]
  },
  {
   "cell_type": "code",
   "execution_count": 100,
   "id": "2ee12997-e9a3-4189-8fa5-78ae86d50aff",
   "metadata": {},
   "outputs": [],
   "source": [
    "y_pred = logit.predict(X_train)\n",
    "y_pred_proba = logit.predict_proba(X_train)"
   ]
  },
  {
   "cell_type": "code",
   "execution_count": 101,
   "id": "99f7543b-bfda-4267-8ae6-0e6a44f09a8e",
   "metadata": {},
   "outputs": [
    {
     "name": "stdout",
     "output_type": "stream",
     "text": [
      "Accuracy of Logistic Regression classifier on training set: 0.71\n"
     ]
    }
   ],
   "source": [
    "print('Accuracy of Logistic Regression classifier on training set: {:.2f}'\n",
    "     .format(logit.score(X_train, y_train)))\n"
   ]
  },
  {
   "cell_type": "code",
   "execution_count": 102,
   "id": "81837215-645d-41b5-9724-d7f056f65cac",
   "metadata": {},
   "outputs": [
    {
     "name": "stdout",
     "output_type": "stream",
     "text": [
      "[[287  42]\n",
      " [115  90]]\n"
     ]
    }
   ],
   "source": [
    "print(confusion_matrix(y_train, y_pred))"
   ]
  },
  {
   "cell_type": "code",
   "execution_count": 103,
   "id": "1f06260c-87b2-40ed-8ea9-81e351213966",
   "metadata": {},
   "outputs": [
    {
     "name": "stdout",
     "output_type": "stream",
     "text": [
      "              precision    recall  f1-score   support\n",
      "\n",
      "           0       0.71      0.87      0.79       329\n",
      "           1       0.68      0.44      0.53       205\n",
      "\n",
      "    accuracy                           0.71       534\n",
      "   macro avg       0.70      0.66      0.66       534\n",
      "weighted avg       0.70      0.71      0.69       534\n",
      "\n"
     ]
    }
   ],
   "source": [
    "print(classification_report(y_train, y_pred))\n"
   ]
  },
  {
   "cell_type": "markdown",
   "id": "f5900751-9be7-441a-8fa5-38e263b7b641",
   "metadata": {},
   "source": [
    "## 2. Include sex in your model as well. Note that you'll need to encode or create a dummy variable of this feature before including it in a model. \n",
    "Still not better than baseline"
   ]
  },
  {
   "cell_type": "code",
   "execution_count": 104,
   "id": "167c272f-f9f3-4577-a8fc-4de802298623",
   "metadata": {},
   "outputs": [
    {
     "name": "stdout",
     "output_type": "stream",
     "text": [
      "train -> (534, 5), 59.93%\n",
      "validate -> (178, 5),19.98%\n",
      "test -> (179, 5), 20.09%\n"
     ]
    }
   ],
   "source": [
    "df=acquire.get_titanic_data()\n",
    "df=prepare.prep_titanic2(df)\n",
    "df=df.drop(columns= ['Unnamed: 0','passenger_id','sex','sibsp','parch','embark_town','alone','embark_town_Queenstown','embark_town_Southampton'])\n",
    "df['age']=df['age'].fillna(df['age'].median())\n",
    "df.sort_values('age')\n",
    "train, validate, test = prepare.split_data(df,'survived')"
   ]
  },
  {
   "cell_type": "code",
   "execution_count": 105,
   "id": "7e45e6f4-cb47-4bfe-be3b-6adba757d2ff",
   "metadata": {},
   "outputs": [
    {
     "data": {
      "text/html": [
       "<div>\n",
       "<style scoped>\n",
       "    .dataframe tbody tr th:only-of-type {\n",
       "        vertical-align: middle;\n",
       "    }\n",
       "\n",
       "    .dataframe tbody tr th {\n",
       "        vertical-align: top;\n",
       "    }\n",
       "\n",
       "    .dataframe thead th {\n",
       "        text-align: right;\n",
       "    }\n",
       "</style>\n",
       "<table border=\"1\" class=\"dataframe\">\n",
       "  <thead>\n",
       "    <tr style=\"text-align: right;\">\n",
       "      <th></th>\n",
       "      <th>survived</th>\n",
       "      <th>pclass</th>\n",
       "      <th>age</th>\n",
       "      <th>fare</th>\n",
       "      <th>sex_male</th>\n",
       "    </tr>\n",
       "  </thead>\n",
       "  <tbody>\n",
       "    <tr>\n",
       "      <th>455</th>\n",
       "      <td>1</td>\n",
       "      <td>3</td>\n",
       "      <td>29.0</td>\n",
       "      <td>7.8958</td>\n",
       "      <td>1</td>\n",
       "    </tr>\n",
       "    <tr>\n",
       "      <th>380</th>\n",
       "      <td>1</td>\n",
       "      <td>1</td>\n",
       "      <td>42.0</td>\n",
       "      <td>227.5250</td>\n",
       "      <td>0</td>\n",
       "    </tr>\n",
       "    <tr>\n",
       "      <th>492</th>\n",
       "      <td>0</td>\n",
       "      <td>1</td>\n",
       "      <td>55.0</td>\n",
       "      <td>30.5000</td>\n",
       "      <td>1</td>\n",
       "    </tr>\n",
       "    <tr>\n",
       "      <th>55</th>\n",
       "      <td>1</td>\n",
       "      <td>1</td>\n",
       "      <td>28.0</td>\n",
       "      <td>35.5000</td>\n",
       "      <td>1</td>\n",
       "    </tr>\n",
       "    <tr>\n",
       "      <th>243</th>\n",
       "      <td>0</td>\n",
       "      <td>3</td>\n",
       "      <td>22.0</td>\n",
       "      <td>7.1250</td>\n",
       "      <td>1</td>\n",
       "    </tr>\n",
       "  </tbody>\n",
       "</table>\n",
       "</div>"
      ],
      "text/plain": [
       "     survived  pclass   age      fare  sex_male\n",
       "455         1       3  29.0    7.8958         1\n",
       "380         1       1  42.0  227.5250         0\n",
       "492         0       1  55.0   30.5000         1\n",
       "55          1       1  28.0   35.5000         1\n",
       "243         0       3  22.0    7.1250         1"
      ]
     },
     "execution_count": 105,
     "metadata": {},
     "output_type": "execute_result"
    }
   ],
   "source": [
    "train.head()"
   ]
  },
  {
   "cell_type": "code",
   "execution_count": null,
   "id": "9193efd7-9047-4b1c-8dea-f6beb8cd0ce2",
   "metadata": {},
   "outputs": [],
   "source": []
  },
  {
   "cell_type": "code",
   "execution_count": 106,
   "id": "9ef8f6f2-cf41-4173-b0d9-db94449307a3",
   "metadata": {},
   "outputs": [],
   "source": [
    "X_train = train.drop(columns='survived')\n",
    "y_train = train.survived\n",
    "\n",
    "X_validate = validate.drop(columns='survived')\n",
    "y_validate = validate.survived\n",
    "\n",
    "X_test = test.drop(columns='survived')\n",
    "y_test = test.survived"
   ]
  },
  {
   "cell_type": "code",
   "execution_count": 107,
   "id": "4d4b8b07-9ece-4da7-ba47-a78f4ea64fa8",
   "metadata": {},
   "outputs": [
    {
     "data": {
      "text/html": [
       "<style>#sk-container-id-8 {color: black;background-color: white;}#sk-container-id-8 pre{padding: 0;}#sk-container-id-8 div.sk-toggleable {background-color: white;}#sk-container-id-8 label.sk-toggleable__label {cursor: pointer;display: block;width: 100%;margin-bottom: 0;padding: 0.3em;box-sizing: border-box;text-align: center;}#sk-container-id-8 label.sk-toggleable__label-arrow:before {content: \"▸\";float: left;margin-right: 0.25em;color: #696969;}#sk-container-id-8 label.sk-toggleable__label-arrow:hover:before {color: black;}#sk-container-id-8 div.sk-estimator:hover label.sk-toggleable__label-arrow:before {color: black;}#sk-container-id-8 div.sk-toggleable__content {max-height: 0;max-width: 0;overflow: hidden;text-align: left;background-color: #f0f8ff;}#sk-container-id-8 div.sk-toggleable__content pre {margin: 0.2em;color: black;border-radius: 0.25em;background-color: #f0f8ff;}#sk-container-id-8 input.sk-toggleable__control:checked~div.sk-toggleable__content {max-height: 200px;max-width: 100%;overflow: auto;}#sk-container-id-8 input.sk-toggleable__control:checked~label.sk-toggleable__label-arrow:before {content: \"▾\";}#sk-container-id-8 div.sk-estimator input.sk-toggleable__control:checked~label.sk-toggleable__label {background-color: #d4ebff;}#sk-container-id-8 div.sk-label input.sk-toggleable__control:checked~label.sk-toggleable__label {background-color: #d4ebff;}#sk-container-id-8 input.sk-hidden--visually {border: 0;clip: rect(1px 1px 1px 1px);clip: rect(1px, 1px, 1px, 1px);height: 1px;margin: -1px;overflow: hidden;padding: 0;position: absolute;width: 1px;}#sk-container-id-8 div.sk-estimator {font-family: monospace;background-color: #f0f8ff;border: 1px dotted black;border-radius: 0.25em;box-sizing: border-box;margin-bottom: 0.5em;}#sk-container-id-8 div.sk-estimator:hover {background-color: #d4ebff;}#sk-container-id-8 div.sk-parallel-item::after {content: \"\";width: 100%;border-bottom: 1px solid gray;flex-grow: 1;}#sk-container-id-8 div.sk-label:hover label.sk-toggleable__label {background-color: #d4ebff;}#sk-container-id-8 div.sk-serial::before {content: \"\";position: absolute;border-left: 1px solid gray;box-sizing: border-box;top: 0;bottom: 0;left: 50%;z-index: 0;}#sk-container-id-8 div.sk-serial {display: flex;flex-direction: column;align-items: center;background-color: white;padding-right: 0.2em;padding-left: 0.2em;position: relative;}#sk-container-id-8 div.sk-item {position: relative;z-index: 1;}#sk-container-id-8 div.sk-parallel {display: flex;align-items: stretch;justify-content: center;background-color: white;position: relative;}#sk-container-id-8 div.sk-item::before, #sk-container-id-8 div.sk-parallel-item::before {content: \"\";position: absolute;border-left: 1px solid gray;box-sizing: border-box;top: 0;bottom: 0;left: 50%;z-index: -1;}#sk-container-id-8 div.sk-parallel-item {display: flex;flex-direction: column;z-index: 1;position: relative;background-color: white;}#sk-container-id-8 div.sk-parallel-item:first-child::after {align-self: flex-end;width: 50%;}#sk-container-id-8 div.sk-parallel-item:last-child::after {align-self: flex-start;width: 50%;}#sk-container-id-8 div.sk-parallel-item:only-child::after {width: 0;}#sk-container-id-8 div.sk-dashed-wrapped {border: 1px dashed gray;margin: 0 0.4em 0.5em 0.4em;box-sizing: border-box;padding-bottom: 0.4em;background-color: white;}#sk-container-id-8 div.sk-label label {font-family: monospace;font-weight: bold;display: inline-block;line-height: 1.2em;}#sk-container-id-8 div.sk-label-container {text-align: center;}#sk-container-id-8 div.sk-container {/* jupyter's `normalize.less` sets `[hidden] { display: none; }` but bootstrap.min.css set `[hidden] { display: none !important; }` so we also need the `!important` here to be able to override the default hidden behavior on the sphinx rendered scikit-learn.org. See: https://github.com/scikit-learn/scikit-learn/issues/21755 */display: inline-block !important;position: relative;}#sk-container-id-8 div.sk-text-repr-fallback {display: none;}</style><div id=\"sk-container-id-8\" class=\"sk-top-container\"><div class=\"sk-text-repr-fallback\"><pre>LogisticRegression()</pre><b>In a Jupyter environment, please rerun this cell to show the HTML representation or trust the notebook. <br />On GitHub, the HTML representation is unable to render, please try loading this page with nbviewer.org.</b></div><div class=\"sk-container\" hidden><div class=\"sk-item\"><div class=\"sk-estimator sk-toggleable\"><input class=\"sk-toggleable__control sk-hidden--visually\" id=\"sk-estimator-id-8\" type=\"checkbox\" checked><label for=\"sk-estimator-id-8\" class=\"sk-toggleable__label sk-toggleable__label-arrow\">LogisticRegression</label><div class=\"sk-toggleable__content\"><pre>LogisticRegression()</pre></div></div></div></div></div>"
      ],
      "text/plain": [
       "LogisticRegression()"
      ]
     },
     "execution_count": 107,
     "metadata": {},
     "output_type": "execute_result"
    }
   ],
   "source": [
    "logit.fit(X_train, y_train)"
   ]
  },
  {
   "cell_type": "code",
   "execution_count": 108,
   "id": "c6d8ccb0-5e98-4d37-ac9b-5cbc04c07ad2",
   "metadata": {},
   "outputs": [
    {
     "name": "stdout",
     "output_type": "stream",
     "text": [
      "Index(['pclass', 'age', 'fare', 'sex_male'], dtype='object')\n",
      "Coefficient: \n",
      " [[-1.15088807e+00 -2.77083109e-02 -1.04544077e-03 -2.59770674e+00]]\n",
      "Intercept: \n",
      " [4.56711949]\n"
     ]
    }
   ],
   "source": [
    "print(X_train.columns)\n",
    "print('Coefficient: \\n', logit.coef_)\n",
    "print('Intercept: \\n', logit.intercept_)\n"
   ]
  },
  {
   "cell_type": "code",
   "execution_count": 109,
   "id": "225e1417-870c-4cab-9aa6-07db04003c8b",
   "metadata": {},
   "outputs": [
    {
     "name": "stdout",
     "output_type": "stream",
     "text": [
      "Accuracy of Logistic Regression classifier on training set: 0.80\n"
     ]
    }
   ],
   "source": [
    "y_pred = logit.predict(X_train)\n",
    "y_pred_proba = logit.predict_proba(X_train)\n",
    "print('Accuracy of Logistic Regression classifier on training set: {:.2f}'\n",
    "     .format(logit.score(X_train, y_train)))\n"
   ]
  },
  {
   "cell_type": "code",
   "execution_count": 110,
   "id": "6a3b314f-9b4d-4051-bde4-29d0399a0ac7",
   "metadata": {},
   "outputs": [
    {
     "name": "stdout",
     "output_type": "stream",
     "text": [
      "[[277  52]\n",
      " [ 55 150]]\n",
      "              precision    recall  f1-score   support\n",
      "\n",
      "           0       0.83      0.84      0.84       329\n",
      "           1       0.74      0.73      0.74       205\n",
      "\n",
      "    accuracy                           0.80       534\n",
      "   macro avg       0.79      0.79      0.79       534\n",
      "weighted avg       0.80      0.80      0.80       534\n",
      "\n"
     ]
    }
   ],
   "source": [
    "print(confusion_matrix(y_train, y_pred))\n",
    "print(classification_report(y_train, y_pred))"
   ]
  },
  {
   "cell_type": "code",
   "execution_count": null,
   "id": "47c07bcf-2927-4669-b445-76b9c56e8f61",
   "metadata": {},
   "outputs": [],
   "source": []
  },
  {
   "cell_type": "code",
   "execution_count": null,
   "id": "0baf6d24-c408-4478-9de2-4f6295a41756",
   "metadata": {},
   "outputs": [],
   "source": []
  },
  {
   "cell_type": "markdown",
   "id": "72f76fb8-d2b2-45f2-80c1-b264bf493fd3",
   "metadata": {},
   "source": [
    "## 3. Try out other combinations of features and models."
   ]
  },
  {
   "cell_type": "code",
   "execution_count": 113,
   "id": "df5bcae3-9680-4d09-bdd8-97aa7b0f9094",
   "metadata": {},
   "outputs": [
    {
     "name": "stdout",
     "output_type": "stream",
     "text": [
      "train -> (534, 5), 59.93%\n",
      "validate -> (178, 5),19.98%\n",
      "test -> (179, 5), 20.09%\n"
     ]
    }
   ],
   "source": [
    "# added parent/child dropped fare\n",
    "df=acquire.get_titanic_data()\n",
    "df=prepare.prep_titanic2(df)\n",
    "df=df.drop(columns= ['Unnamed: 0','passenger_id','fare','sex','sibsp','embark_town','alone','embark_town_Queenstown','embark_town_Southampton'])\n",
    "df['age']=df['age'].fillna(df['age'].median())\n",
    "df.sort_values('age')\n",
    "train, validate, test = prepare.split_data(df,'survived')"
   ]
  },
  {
   "cell_type": "code",
   "execution_count": 115,
   "id": "06a0bf19-21b7-4e96-8435-d4db3c05df1c",
   "metadata": {},
   "outputs": [],
   "source": [
    "X_train = train.drop(columns='survived')\n",
    "y_train = train.survived\n",
    "\n",
    "X_validate = validate.drop(columns='survived')\n",
    "y_validate = validate.survived\n",
    "\n",
    "X_test = test.drop(columns='survived')\n",
    "y_test = test.survived\n"
   ]
  },
  {
   "cell_type": "code",
   "execution_count": 116,
   "id": "0739ce08-97e9-449a-badb-587214a2eb9b",
   "metadata": {},
   "outputs": [
    {
     "name": "stdout",
     "output_type": "stream",
     "text": [
      "Index(['pclass', 'age', 'parch', 'sex_male'], dtype='object')\n",
      "Coefficient: \n",
      " [[-1.12724958 -0.0294706  -0.18027688 -2.65960055]]\n",
      "Intercept: \n",
      " [4.64155507]\n",
      "Accuracy of Logistic Regression classifier on training set: 0.79\n"
     ]
    }
   ],
   "source": [
    "logit.fit(X_train, y_train)\n",
    "print(X_train.columns)\n",
    "print('Coefficient: \\n', logit.coef_)\n",
    "print('Intercept: \\n', logit.intercept_)\n",
    "y_pred = logit.predict(X_train)\n",
    "y_pred_proba = logit.predict_proba(X_train)\n",
    "print('Accuracy of Logistic Regression classifier on training set: {:.2f}'\n",
    "     .format(logit.score(X_train, y_train)))\n"
   ]
  },
  {
   "cell_type": "code",
   "execution_count": 117,
   "id": "bca8f660-564e-49d6-90f0-79cf2914e368",
   "metadata": {},
   "outputs": [
    {
     "name": "stdout",
     "output_type": "stream",
     "text": [
      "[[275  54]\n",
      " [ 57 148]]\n",
      "              precision    recall  f1-score   support\n",
      "\n",
      "           0       0.83      0.84      0.83       329\n",
      "           1       0.73      0.72      0.73       205\n",
      "\n",
      "    accuracy                           0.79       534\n",
      "   macro avg       0.78      0.78      0.78       534\n",
      "weighted avg       0.79      0.79      0.79       534\n",
      "\n"
     ]
    }
   ],
   "source": [
    "print(confusion_matrix(y_train, y_pred))\n",
    "print(classification_report(y_train, y_pred))"
   ]
  },
  {
   "cell_type": "code",
   "execution_count": null,
   "id": "f2127caa-2fe9-491d-a960-b186cb05ccde",
   "metadata": {},
   "outputs": [],
   "source": [
    "## only using pclass, age, and sex"
   ]
  },
  {
   "cell_type": "code",
   "execution_count": 118,
   "id": "f7722c52-fa2f-4d5f-80ff-cd08ce0679c6",
   "metadata": {},
   "outputs": [
    {
     "name": "stdout",
     "output_type": "stream",
     "text": [
      "train -> (534, 4), 59.93%\n",
      "validate -> (178, 4),19.98%\n",
      "test -> (179, 4), 20.09%\n"
     ]
    }
   ],
   "source": [
    "df=acquire.get_titanic_data()\n",
    "df=prepare.prep_titanic2(df)\n",
    "df=df.drop(columns= ['Unnamed: 0','passenger_id','fare','sex','sibsp','parch','embark_town','alone','embark_town_Queenstown','embark_town_Southampton'])\n",
    "df['age']=df['age'].fillna(df['age'].median())\n",
    "df.sort_values('age')\n",
    "train, validate, test = prepare.split_data(df,'survived')"
   ]
  },
  {
   "cell_type": "code",
   "execution_count": 119,
   "id": "96a91deb-4c12-48f5-bb6a-b68a0fba6257",
   "metadata": {},
   "outputs": [
    {
     "name": "stdout",
     "output_type": "stream",
     "text": [
      "Index(['pclass', 'age', 'sex_male'], dtype='object')\n",
      "Coefficient: \n",
      " [[-1.11696405 -0.02721983 -2.58979076]]\n",
      "Intercept: \n",
      " [4.43912502]\n",
      "Accuracy of Logistic Regression classifier on training set: 0.80\n",
      "[[283  46]\n",
      " [ 60 145]]\n",
      "              precision    recall  f1-score   support\n",
      "\n",
      "           0       0.83      0.86      0.84       329\n",
      "           1       0.76      0.71      0.73       205\n",
      "\n",
      "    accuracy                           0.80       534\n",
      "   macro avg       0.79      0.78      0.79       534\n",
      "weighted avg       0.80      0.80      0.80       534\n",
      "\n"
     ]
    }
   ],
   "source": [
    "X_train = train.drop(columns='survived')\n",
    "y_train = train.survived\n",
    "\n",
    "X_validate = validate.drop(columns='survived')\n",
    "y_validate = validate.survived\n",
    "\n",
    "X_test = test.drop(columns='survived')\n",
    "y_test = test.survived\n",
    "#\n",
    "logit.fit(X_train, y_train)\n",
    "print(X_train.columns)\n",
    "print('Coefficient: \\n', logit.coef_)\n",
    "print('Intercept: \\n', logit.intercept_)\n",
    "y_pred = logit.predict(X_train)\n",
    "y_pred_proba = logit.predict_proba(X_train)\n",
    "print('Accuracy of Logistic Regression classifier on training set: {:.2f}'\n",
    "     .format(logit.score(X_train, y_train)))\n",
    "#\n",
    "print(confusion_matrix(y_train, y_pred))\n",
    "print(classification_report(y_train, y_pred))"
   ]
  },
  {
   "cell_type": "markdown",
   "id": "d4f01c21-60b3-45bb-850c-14e3e7ea2c8a",
   "metadata": {},
   "source": [
    "## 4. Use you best 3 models to predict and evaluate on your validate sample."
   ]
  },
  {
   "cell_type": "code",
   "execution_count": null,
   "id": "3caa8329-cc92-4a43-947c-b1436c91ece6",
   "metadata": {},
   "outputs": [],
   "source": [
    "### evaluate step was done on each model as it was created above\n",
    "## best model only included age with median age, sex, and passanger class"
   ]
  },
  {
   "cell_type": "code",
   "execution_count": 124,
   "id": "b3778208-3c5c-481d-ab73-655394039a21",
   "metadata": {},
   "outputs": [
    {
     "name": "stdout",
     "output_type": "stream",
     "text": [
      "Model 1:only included age with median age, sex, and passanger class\n",
      "Accuracy: 0.78\n",
      "[[92 18]\n",
      " [21 47]]\n",
      "              precision    recall  f1-score   support\n",
      "\n",
      "           0       0.81      0.84      0.83       110\n",
      "           1       0.72      0.69      0.71        68\n",
      "\n",
      "    accuracy                           0.78       178\n",
      "   macro avg       0.77      0.76      0.77       178\n",
      "weighted avg       0.78      0.78      0.78       178\n",
      "\n"
     ]
    }
   ],
   "source": [
    "# make predictions\n",
    "y_pred1 = logit.predict(X_validate)\n",
    "print(\"Model 1:only included age with median age, sex, and passanger class\")\n",
    "# accuracy of model 1\n",
    "print('Accuracy: {:.2f}'.format(logit.score(X_validate, y_validate)))\n",
    "# confusion matrix of model 1\n",
    "print(confusion_matrix(y_validate, y_pred1))\n",
    "# classification report of model 1\n",
    "print(classification_report(y_validate, y_pred1))"
   ]
  },
  {
   "cell_type": "code",
   "execution_count": null,
   "id": "e425c6c1-cf06-4f4a-8564-7bb6c913c068",
   "metadata": {},
   "outputs": [],
   "source": []
  },
  {
   "cell_type": "code",
   "execution_count": null,
   "id": "ebc27db4-944f-486e-b01e-ce401ee72389",
   "metadata": {},
   "outputs": [],
   "source": []
  },
  {
   "cell_type": "markdown",
   "id": "d669472d-1cf8-4b7a-893c-85db74824169",
   "metadata": {},
   "source": [
    "## 5. Choose you best model from the validation performation, and evaluate it on the test dataset. How do the performance metrics compare to validate? to train?\n",
    "my model gage roughly the same results as it did in the train and validate phases. This leades me to assume that the modele is good and not dodeled to closely to the training set."
   ]
  },
  {
   "cell_type": "code",
   "execution_count": 125,
   "id": "04449433-96d5-4830-9b14-6a697e392143",
   "metadata": {},
   "outputs": [
    {
     "name": "stdout",
     "output_type": "stream",
     "text": [
      "Model 1:only included age with median age, sex, and passanger class\n",
      "Accuracy: 0.80\n",
      "[[95 15]\n",
      " [21 48]]\n",
      "              precision    recall  f1-score   support\n",
      "\n",
      "           0       0.82      0.86      0.84       110\n",
      "           1       0.76      0.70      0.73        69\n",
      "\n",
      "    accuracy                           0.80       179\n",
      "   macro avg       0.79      0.78      0.78       179\n",
      "weighted avg       0.80      0.80      0.80       179\n",
      "\n"
     ]
    }
   ],
   "source": [
    "# make predictions\n",
    "y_pred1 = logit.predict(X_test)\n",
    "print(\"Model 1:only included age with median age, sex, and passanger class\")\n",
    "# accuracy of model 1\n",
    "print('Accuracy: {:.2f}'.format(logit.score(X_test, y_test)))\n",
    "# confusion matrix of model 1\n",
    "print(confusion_matrix(y_test, y_pred1))\n",
    "# classification report of model 1\n",
    "print(classification_report(y_test, y_pred1))"
   ]
  },
  {
   "cell_type": "markdown",
   "id": "80871ccd-925a-4c3a-87b3-0d224914c3fc",
   "metadata": {},
   "source": [
    "## Bonus1 How do different strategies for handling the missing values in the age column affect model performance?"
   ]
  },
  {
   "cell_type": "code",
   "execution_count": 126,
   "id": "6a3794ef-b72a-4f48-974d-0a50c11e6024",
   "metadata": {},
   "outputs": [],
   "source": [
    "#### using either mean or median values for null, provided greatter accuracy.\n",
    "####            However the difference b/w the two was insignificant"
   ]
  },
  {
   "cell_type": "markdown",
   "id": "305ba844-eefe-4a69-ba4d-e380821413a7",
   "metadata": {},
   "source": [
    "## Bonus2: How do different strategies for encoding sex affect model performance?"
   ]
  },
  {
   "cell_type": "code",
   "execution_count": 127,
   "id": "71a3a854-b7b8-4205-a2a3-2660c7b0d84a",
   "metadata": {},
   "outputs": [],
   "source": [
    "### not including sex resulted in an accuracy 20% less than if sex in encoded."
   ]
  },
  {
   "cell_type": "markdown",
   "id": "59a5a106-87a2-48e8-a386-1e2d9aa856f5",
   "metadata": {},
   "source": [
    "# Bonus3: scikit-learn's LogisticRegression classifier is actually applying a regularization penalty to the coefficients by default. "
   ]
  },
  {
   "cell_type": "markdown",
   "id": "ea793f50-0c12-46b1-8940-f3d748a4fa88",
   "metadata": {},
   "source": [
    "#### This penalty causes the magnitude of the coefficients in the resulting model to be smaller than they otherwise would be. This value can be modified with the C hyper parameter. Small values of C correspond to a larger penalty, and large values of C correspond to a smaller penalty.\n",
    "#### Try out the following values for C and note how the coefficients and the model's performance on both the dataset it was trained on and on the validate split are affected.\n",
    "#### C=.01,.1,1,10,100,1000"
   ]
  },
  {
   "cell_type": "code",
   "execution_count": 128,
   "id": "0723db21-cbdd-468c-b704-f65738a90472",
   "metadata": {},
   "outputs": [
    {
     "name": "stdout",
     "output_type": "stream",
     "text": [
      "train -> (534, 4), 59.93%\n",
      "validate -> (178, 4),19.98%\n",
      "test -> (179, 4), 20.09%\n"
     ]
    }
   ],
   "source": [
    "df=acquire.get_titanic_data()\n",
    "df=prepare.prep_titanic2(df)\n",
    "df=df.drop(columns= ['Unnamed: 0','passenger_id','fare','sex','sibsp','parch','embark_town','alone','embark_town_Queenstown','embark_town_Southampton'])\n",
    "df['age']=df['age'].fillna(df['age'].median())\n",
    "df.sort_values('age')\n",
    "train, validate, test = prepare.split_data(df,'survived')"
   ]
  },
  {
   "cell_type": "code",
   "execution_count": 132,
   "id": "3140051c-45fa-4325-85aa-4ba61a090ce1",
   "metadata": {},
   "outputs": [
    {
     "name": "stdout",
     "output_type": "stream",
     "text": [
      "Index(['pclass', 'age', 'sex_male'], dtype='object')\n",
      "Coefficient: \n",
      " [[-1.11696405 -0.02721983 -2.58979076]]\n",
      "Intercept: \n",
      " [4.43912502]\n",
      "Accuracy of Logistic Regression classifier on training set: 0.80\n",
      "[[283  46]\n",
      " [ 60 145]]\n",
      "              precision    recall  f1-score   support\n",
      "\n",
      "           0       0.83      0.86      0.84       329\n",
      "           1       0.76      0.71      0.73       205\n",
      "\n",
      "    accuracy                           0.80       534\n",
      "   macro avg       0.79      0.78      0.79       534\n",
      "weighted avg       0.80      0.80      0.80       534\n",
      "\n"
     ]
    }
   ],
   "source": [
    "X_train = train.drop(columns='survived')\n",
    "y_train = train.survived\n",
    "\n",
    "X_validate = validate.drop(columns='survived')\n",
    "y_validate = validate.survived\n",
    "\n",
    "X_test = test.drop(columns='survived')\n",
    "y_test = test.survived\n",
    "#\n",
    "logit = LogisticRegression()\n",
    "\n",
    "logit.fit(X_train, y_train)\n",
    "print(X_train.columns)\n",
    "print('Coefficient: \\n', logit.coef_)\n",
    "print('Intercept: \\n', logit.intercept_)\n",
    "y_pred = logit.predict(X_train)\n",
    "y_pred_proba = logit.predict_proba(X_train)\n",
    "print('Accuracy of Logistic Regression classifier on training set: {:.2f}'\n",
    "     .format(logit.score(X_train, y_train)))\n",
    "#\n",
    "print(confusion_matrix(y_train, y_pred))\n",
    "print(classification_report(y_train, y_pred))"
   ]
  },
  {
   "cell_type": "code",
   "execution_count": 131,
   "id": "9cf932be-3aff-46e2-b2db-eaa399a61746",
   "metadata": {},
   "outputs": [
    {
     "name": "stdout",
     "output_type": "stream",
     "text": [
      "Model 1:only included age with median age, sex, and passanger class\n",
      "Accuracy: 0.78\n",
      "[[92 18]\n",
      " [21 47]]\n",
      "              precision    recall  f1-score   support\n",
      "\n",
      "           0       0.81      0.84      0.83       110\n",
      "           1       0.72      0.69      0.71        68\n",
      "\n",
      "    accuracy                           0.78       178\n",
      "   macro avg       0.77      0.76      0.77       178\n",
      "weighted avg       0.78      0.78      0.78       178\n",
      "\n"
     ]
    }
   ],
   "source": [
    "# make predictions\n",
    "y_pred1 = logit.predict(X_validate)\n",
    "print(\"Model 1:only included age with median age, sex, and passanger class\")\n",
    "# accuracy of model 1\n",
    "print('Accuracy: {:.2f}'.format(logit.score(X_validate, y_validate)))\n",
    "# confusion matrix of model 1\n",
    "print(confusion_matrix(y_validate, y_pred1))\n",
    "# classification report of model 1\n",
    "print(classification_report(y_validate, y_pred1))"
   ]
  },
  {
   "cell_type": "code",
   "execution_count": 135,
   "id": "260e3f7e-3dbb-43e9-8a5c-52d2351ae5f7",
   "metadata": {},
   "outputs": [
    {
     "name": "stdout",
     "output_type": "stream",
     "text": [
      "Training set with C=.01\n",
      "Index(['pclass', 'age', 'sex_male'], dtype='object')\n",
      "Coefficient: \n",
      " [[-0.40124797 -0.01507886 -0.51089056]]\n",
      "Intercept: \n",
      " [1.21238013]\n",
      "Accuracy of Logistic Regression classifier on training set: 0.73\n",
      "[[323   6]\n",
      " [140  65]]\n",
      "              precision    recall  f1-score   support\n",
      "\n",
      "           0       0.70      0.98      0.82       329\n",
      "           1       0.92      0.32      0.47       205\n",
      "\n",
      "    accuracy                           0.73       534\n",
      "   macro avg       0.81      0.65      0.64       534\n",
      "weighted avg       0.78      0.73      0.68       534\n",
      "\n",
      "-----using validate-----\n",
      "Model 1:only included age with median age, sex, and passanger class\n",
      "Accuracy: 0.74\n",
      "[[108   2]\n",
      " [ 44  24]]\n",
      "              precision    recall  f1-score   support\n",
      "\n",
      "           0       0.71      0.98      0.82       110\n",
      "           1       0.92      0.35      0.51        68\n",
      "\n",
      "    accuracy                           0.74       178\n",
      "   macro avg       0.82      0.67      0.67       178\n",
      "weighted avg       0.79      0.74      0.70       178\n",
      "\n"
     ]
    }
   ],
   "source": [
    "# using C=.01\n",
    "print('Training set with C=.01')\n",
    "logit2 = LogisticRegression(C=.01)\n",
    "\n",
    "logit2.fit(X_train, y_train)\n",
    "print(X_train.columns)\n",
    "print('Coefficient: \\n', logit2.coef_)\n",
    "print('Intercept: \\n', logit2.intercept_)\n",
    "y_pred = logit2.predict(X_train)\n",
    "y_pred_proba = logit.predict_proba(X_train)\n",
    "print('Accuracy of Logistic Regression classifier on training set: {:.2f}'\n",
    "     .format(logit2.score(X_train, y_train)))\n",
    "print(confusion_matrix(y_train, y_pred))\n",
    "print(classification_report(y_train, y_pred))\n",
    "print('-----using validate-----')\n",
    "y_pred1 = logit2.predict(X_validate)\n",
    "print(\"Model 1:only included age with median age, sex, and passanger class\")\n",
    "print('Accuracy: {:.2f}'.format(logit2.score(X_validate, y_validate)))\n",
    "print(confusion_matrix(y_validate, y_pred1))\n",
    "print(classification_report(y_validate, y_pred1))"
   ]
  },
  {
   "cell_type": "code",
   "execution_count": 136,
   "id": "69a87b99-887a-4f88-b3a1-68daa9f5d5c2",
   "metadata": {},
   "outputs": [
    {
     "name": "stdout",
     "output_type": "stream",
     "text": [
      "Training set with C=.1\n",
      "Index(['pclass', 'age', 'sex_male'], dtype='object')\n",
      "Coefficient: \n",
      " [[-0.87028232 -0.02311977 -1.78606364]]\n",
      "Intercept: \n",
      " [3.28588752]\n",
      "Accuracy of Logistic Regression classifier on training set: 0.80\n",
      "[[284  45]\n",
      " [ 62 143]]\n",
      "              precision    recall  f1-score   support\n",
      "\n",
      "           0       0.82      0.86      0.84       329\n",
      "           1       0.76      0.70      0.73       205\n",
      "\n",
      "    accuracy                           0.80       534\n",
      "   macro avg       0.79      0.78      0.78       534\n",
      "weighted avg       0.80      0.80      0.80       534\n",
      "\n",
      "-----using validate-----\n",
      "Model 1:only included age with median age, sex, and passanger class\n",
      "Accuracy: 0.79\n",
      "[[96 14]\n",
      " [23 45]]\n",
      "              precision    recall  f1-score   support\n",
      "\n",
      "           0       0.81      0.87      0.84       110\n",
      "           1       0.76      0.66      0.71        68\n",
      "\n",
      "    accuracy                           0.79       178\n",
      "   macro avg       0.78      0.77      0.77       178\n",
      "weighted avg       0.79      0.79      0.79       178\n",
      "\n"
     ]
    }
   ],
   "source": [
    "# using C=.1\n",
    "print('Training set with C=.1')\n",
    "logit3 = LogisticRegression(C=.1)\n",
    "\n",
    "logit3.fit(X_train, y_train)\n",
    "print(X_train.columns)\n",
    "print('Coefficient: \\n', logit3.coef_)\n",
    "print('Intercept: \\n', logit3.intercept_)\n",
    "y_pred = logit3.predict(X_train)\n",
    "y_pred_proba = logit3.predict_proba(X_train)\n",
    "print('Accuracy of Logistic Regression classifier on training set: {:.2f}'\n",
    "     .format(logit3.score(X_train, y_train)))\n",
    "print(confusion_matrix(y_train, y_pred))\n",
    "print(classification_report(y_train, y_pred))\n",
    "print('-----using validate-----')\n",
    "y_pred1 = logit3.predict(X_validate)\n",
    "print(\"Model 1:only included age with median age, sex, and passanger class\")\n",
    "print('Accuracy: {:.2f}'.format(logit3.score(X_validate, y_validate)))\n",
    "print(confusion_matrix(y_validate, y_pred1))\n",
    "print(classification_report(y_validate, y_pred1))"
   ]
  },
  {
   "cell_type": "code",
   "execution_count": 137,
   "id": "d49347fd-0db9-4ba6-a26a-b41f99e26363",
   "metadata": {},
   "outputs": [
    {
     "name": "stdout",
     "output_type": "stream",
     "text": [
      "Training set with C=1\n",
      "Index(['pclass', 'age', 'sex_male'], dtype='object')\n",
      "Coefficient: \n",
      " [[-1.11696405 -0.02721983 -2.58979076]]\n",
      "Intercept: \n",
      " [4.43912502]\n",
      "Accuracy of Logistic Regression classifier on training set: 0.80\n",
      "[[283  46]\n",
      " [ 60 145]]\n",
      "              precision    recall  f1-score   support\n",
      "\n",
      "           0       0.83      0.86      0.84       329\n",
      "           1       0.76      0.71      0.73       205\n",
      "\n",
      "    accuracy                           0.80       534\n",
      "   macro avg       0.79      0.78      0.79       534\n",
      "weighted avg       0.80      0.80      0.80       534\n",
      "\n",
      "-----using validate-----\n",
      "Model 1:only included age with median age, sex, and passanger class\n",
      "Accuracy: 0.78\n",
      "[[92 18]\n",
      " [21 47]]\n",
      "              precision    recall  f1-score   support\n",
      "\n",
      "           0       0.81      0.84      0.83       110\n",
      "           1       0.72      0.69      0.71        68\n",
      "\n",
      "    accuracy                           0.78       178\n",
      "   macro avg       0.77      0.76      0.77       178\n",
      "weighted avg       0.78      0.78      0.78       178\n",
      "\n"
     ]
    }
   ],
   "source": [
    "# using C=1\n",
    "print('Training set with C=1')\n",
    "logit4 = LogisticRegression(C=1)\n",
    "\n",
    "logit4.fit(X_train, y_train)\n",
    "print(X_train.columns)\n",
    "print('Coefficient: \\n', logit4.coef_)\n",
    "print('Intercept: \\n', logit4.intercept_)\n",
    "y_pred = logit4.predict(X_train)\n",
    "y_pred_proba = logit4.predict_proba(X_train)\n",
    "print('Accuracy of Logistic Regression classifier on training set: {:.2f}'\n",
    "     .format(logit4.score(X_train, y_train)))\n",
    "print(confusion_matrix(y_train, y_pred))\n",
    "print(classification_report(y_train, y_pred))\n",
    "print('-----using validate-----')\n",
    "y_pred1 = logit4.predict(X_validate)\n",
    "print(\"Model 1:only included age with median age, sex, and passanger class\")\n",
    "print('Accuracy: {:.2f}'.format(logit4.score(X_validate, y_validate)))\n",
    "print(confusion_matrix(y_validate, y_pred1))\n",
    "print(classification_report(y_validate, y_pred1))"
   ]
  },
  {
   "cell_type": "code",
   "execution_count": 138,
   "id": "8081d82b-5887-4318-92b5-10455daf8c54",
   "metadata": {},
   "outputs": [
    {
     "name": "stdout",
     "output_type": "stream",
     "text": [
      "Training set with C=10\n",
      "Index(['pclass', 'age', 'sex_male'], dtype='object')\n",
      "Coefficient: \n",
      " [[-1.16596829 -0.02803799 -2.73630046]]\n",
      "Intercept: \n",
      " [4.6595357]\n",
      "Accuracy of Logistic Regression classifier on training set: 0.80\n",
      "[[279  50]\n",
      " [ 58 147]]\n",
      "              precision    recall  f1-score   support\n",
      "\n",
      "           0       0.83      0.85      0.84       329\n",
      "           1       0.75      0.72      0.73       205\n",
      "\n",
      "    accuracy                           0.80       534\n",
      "   macro avg       0.79      0.78      0.78       534\n",
      "weighted avg       0.80      0.80      0.80       534\n",
      "\n",
      "-----using validate-----\n",
      "Model 1:only included age with median age, sex, and passanger class\n",
      "Accuracy: 0.78\n",
      "[[92 18]\n",
      " [21 47]]\n",
      "              precision    recall  f1-score   support\n",
      "\n",
      "           0       0.81      0.84      0.83       110\n",
      "           1       0.72      0.69      0.71        68\n",
      "\n",
      "    accuracy                           0.78       178\n",
      "   macro avg       0.77      0.76      0.77       178\n",
      "weighted avg       0.78      0.78      0.78       178\n",
      "\n"
     ]
    }
   ],
   "source": [
    "# using C=10\n",
    "print('Training set with C=10')\n",
    "logit5 = LogisticRegression(C=10)\n",
    "\n",
    "logit5.fit(X_train, y_train)\n",
    "print(X_train.columns)\n",
    "print('Coefficient: \\n', logit5.coef_)\n",
    "print('Intercept: \\n', logit5.intercept_)\n",
    "y_pred = logit5.predict(X_train)\n",
    "y_pred_proba = logit5.predict_proba(X_train)\n",
    "print('Accuracy of Logistic Regression classifier on training set: {:.2f}'\n",
    "     .format(logit5.score(X_train, y_train)))\n",
    "print(confusion_matrix(y_train, y_pred))\n",
    "print(classification_report(y_train, y_pred))\n",
    "print('-----using validate-----')\n",
    "y_pred1 = logit5.predict(X_validate)\n",
    "print(\"Model 1:only included age with median age, sex, and passanger class\")\n",
    "print('Accuracy: {:.2f}'.format(logit5.score(X_validate, y_validate)))\n",
    "print(confusion_matrix(y_validate, y_pred1))\n",
    "print(classification_report(y_validate, y_pred1))"
   ]
  },
  {
   "cell_type": "code",
   "execution_count": 139,
   "id": "2dedb015-470e-4630-99b4-fe16799da6c9",
   "metadata": {},
   "outputs": [
    {
     "name": "stdout",
     "output_type": "stream",
     "text": [
      "Training set with C=100\n",
      "Index(['pclass', 'age', 'sex_male'], dtype='object')\n",
      "Coefficient: \n",
      " [[-1.17143376 -0.028128   -2.75240908]]\n",
      "Intercept: \n",
      " [4.68392372]\n",
      "Accuracy of Logistic Regression classifier on training set: 0.80\n",
      "[[279  50]\n",
      " [ 58 147]]\n",
      "              precision    recall  f1-score   support\n",
      "\n",
      "           0       0.83      0.85      0.84       329\n",
      "           1       0.75      0.72      0.73       205\n",
      "\n",
      "    accuracy                           0.80       534\n",
      "   macro avg       0.79      0.78      0.78       534\n",
      "weighted avg       0.80      0.80      0.80       534\n",
      "\n",
      "-----using validate-----\n",
      "Model 1:only included age with median age, sex, and passanger class\n",
      "Accuracy: 0.78\n",
      "[[92 18]\n",
      " [21 47]]\n",
      "              precision    recall  f1-score   support\n",
      "\n",
      "           0       0.81      0.84      0.83       110\n",
      "           1       0.72      0.69      0.71        68\n",
      "\n",
      "    accuracy                           0.78       178\n",
      "   macro avg       0.77      0.76      0.77       178\n",
      "weighted avg       0.78      0.78      0.78       178\n",
      "\n"
     ]
    }
   ],
   "source": [
    "# using C=100\n",
    "print('Training set with C=100')\n",
    "logit6 = LogisticRegression(C=100)\n",
    "\n",
    "logit6.fit(X_train, y_train)\n",
    "print(X_train.columns)\n",
    "print('Coefficient: \\n', logit6.coef_)\n",
    "print('Intercept: \\n', logit6.intercept_)\n",
    "y_pred = logit6.predict(X_train)\n",
    "y_pred_proba = logit6.predict_proba(X_train)\n",
    "print('Accuracy of Logistic Regression classifier on training set: {:.2f}'\n",
    "     .format(logit6.score(X_train, y_train)))\n",
    "print(confusion_matrix(y_train, y_pred))\n",
    "print(classification_report(y_train, y_pred))\n",
    "print('-----using validate-----')\n",
    "y_pred1 = logit6.predict(X_validate)\n",
    "print(\"Model 1:only included age with median age, sex, and passanger class\")\n",
    "print('Accuracy: {:.2f}'.format(logit6.score(X_validate, y_validate)))\n",
    "print(confusion_matrix(y_validate, y_pred1))\n",
    "print(classification_report(y_validate, y_pred1))"
   ]
  },
  {
   "cell_type": "code",
   "execution_count": 140,
   "id": "b711ed85-1443-4375-be29-ffd4268b8cac",
   "metadata": {},
   "outputs": [
    {
     "name": "stdout",
     "output_type": "stream",
     "text": [
      "Training set with C=1000\n",
      "Index(['pclass', 'age', 'sex_male'], dtype='object')\n",
      "Coefficient: \n",
      " [[-1.17199494 -0.02813754 -2.75403922]]\n",
      "Intercept: \n",
      " [4.68642204]\n",
      "Accuracy of Logistic Regression classifier on training set: 0.80\n",
      "[[279  50]\n",
      " [ 58 147]]\n",
      "              precision    recall  f1-score   support\n",
      "\n",
      "           0       0.83      0.85      0.84       329\n",
      "           1       0.75      0.72      0.73       205\n",
      "\n",
      "    accuracy                           0.80       534\n",
      "   macro avg       0.79      0.78      0.78       534\n",
      "weighted avg       0.80      0.80      0.80       534\n",
      "\n",
      "-----using validate-----\n",
      "Model 1:only included age with median age, sex, and passanger class\n",
      "Accuracy: 0.78\n",
      "[[92 18]\n",
      " [21 47]]\n",
      "              precision    recall  f1-score   support\n",
      "\n",
      "           0       0.81      0.84      0.83       110\n",
      "           1       0.72      0.69      0.71        68\n",
      "\n",
      "    accuracy                           0.78       178\n",
      "   macro avg       0.77      0.76      0.77       178\n",
      "weighted avg       0.78      0.78      0.78       178\n",
      "\n"
     ]
    }
   ],
   "source": [
    "# using C=1000\n",
    "print('Training set with C=1000')\n",
    "logit7 = LogisticRegression(C=1000)\n",
    "\n",
    "logit7.fit(X_train, y_train)\n",
    "print(X_train.columns)\n",
    "print('Coefficient: \\n', logit7.coef_)\n",
    "print('Intercept: \\n', logit7.intercept_)\n",
    "y_pred = logit7.predict(X_train)\n",
    "y_pred_proba = logit7.predict_proba(X_train)\n",
    "print('Accuracy of Logistic Regression classifier on training set: {:.2f}'\n",
    "     .format(logit7.score(X_train, y_train)))\n",
    "print(confusion_matrix(y_train, y_pred))\n",
    "print(classification_report(y_train, y_pred))\n",
    "print('-----using validate-----')\n",
    "y_pred1 = logit7.predict(X_validate)\n",
    "print(\"Model 1:only included age with median age, sex, and passanger class\")\n",
    "print('Accuracy: {:.2f}'.format(logit7.score(X_validate, y_validate)))\n",
    "print(confusion_matrix(y_validate, y_pred1))\n",
    "print(classification_report(y_validate, y_pred1))"
   ]
  },
  {
   "cell_type": "code",
   "execution_count": null,
   "id": "6e024720-c85e-4572-8c5f-0a2655ae8a67",
   "metadata": {},
   "outputs": [],
   "source": []
  }
 ],
 "metadata": {
  "kernelspec": {
   "display_name": "Python 3 (ipykernel)",
   "language": "python",
   "name": "python3"
  },
  "language_info": {
   "codemirror_mode": {
    "name": "ipython",
    "version": 3
   },
   "file_extension": ".py",
   "mimetype": "text/x-python",
   "name": "python",
   "nbconvert_exporter": "python",
   "pygments_lexer": "ipython3",
   "version": "3.9.13"
  }
 },
 "nbformat": 4,
 "nbformat_minor": 5
}
