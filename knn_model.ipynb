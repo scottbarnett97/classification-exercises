{
 "cells": [
  {
   "cell_type": "markdown",
   "id": "84f528b4-55bc-48a8-85fb-51723862c954",
   "metadata": {},
   "source": [
    "# Exercise- K-Nearest Neighbor"
   ]
  },
  {
   "cell_type": "code",
   "execution_count": 1,
   "id": "baf02286-efc6-42b7-8e86-b00b5ae284fa",
   "metadata": {},
   "outputs": [],
   "source": [
    "# 1. Fit a K-Nearest Neighbors classifier to your training sample and transform (i.e. make predictions on the training sample)"
   ]
  },
  {
   "cell_type": "code",
   "execution_count": 2,
   "id": "a5c585c4-1731-46ad-9f1d-7e0bc0fbb470",
   "metadata": {},
   "outputs": [],
   "source": [
    "# Quiet my warnings for the sake of the lesson:\n",
    "import warnings\n",
    "warnings.filterwarnings(\"ignore\")\n",
    "\n",
    "# Tabular data friends:\n",
    "import pandas as pd\n",
    "import numpy as np\n",
    "\n",
    "# Data viz:\n",
    "import matplotlib.pyplot as plt\n",
    "import seaborn as sns\n",
    "\n",
    "# Sklearn stuff:\n",
    "from sklearn.model_selection import train_test_split\n",
    "from sklearn.neighbors import KNeighborsClassifier\n",
    "from sklearn.metrics import classification_report, confusion_matrix, plot_confusion_matrix\n",
    "\n",
    "# Data acquisition\n",
    "from pydataset import data\n",
    "import pandas as pd\n",
    "import matplotlib.pyplot as plt\n",
    "import scipy.stats as stats\n",
    "import seaborn as sns\n",
    "import numpy as np\n",
    "import env\n",
    "import os\n",
    "import sklearn\n",
    "import acquire\n",
    "import prepare"
   ]
  },
  {
   "cell_type": "code",
   "execution_count": 3,
   "id": "5170b458-0a7e-4cb6-9da5-bb0c2fe3c259",
   "metadata": {},
   "outputs": [],
   "source": [
    "df= acquire.get_titanic_data()"
   ]
  },
  {
   "cell_type": "code",
   "execution_count": null,
   "id": "e803f639-77ce-4226-9693-8882a192bae5",
   "metadata": {},
   "outputs": [],
   "source": [
    "df = prepare.pre"
   ]
  }
 ],
 "metadata": {
  "kernelspec": {
   "display_name": "Python 3 (ipykernel)",
   "language": "python",
   "name": "python3"
  },
  "language_info": {
   "codemirror_mode": {
    "name": "ipython",
    "version": 3
   },
   "file_extension": ".py",
   "mimetype": "text/x-python",
   "name": "python",
   "nbconvert_exporter": "python",
   "pygments_lexer": "ipython3",
   "version": "3.9.13"
  }
 },
 "nbformat": 4,
 "nbformat_minor": 5
}
